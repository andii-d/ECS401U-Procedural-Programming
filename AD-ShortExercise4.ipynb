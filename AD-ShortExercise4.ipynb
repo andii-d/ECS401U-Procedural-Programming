{
 "cells": [
  {
   "cell_type": "markdown",
   "metadata": {
    "editable": true,
    "slideshow": {
     "slide_type": ""
    },
    "tags": []
   },
   "source": [
    "# Short Assessed Exercise\n",
    "# Level  4\n",
    "## Andy Dishnica\n",
    "## 250334126\n",
    "## 28/09/25\n",
    "## Version 1"
   ]
  },
  {
   "cell_type": "markdown",
   "metadata": {
    "editable": true,
    "slideshow": {
     "slide_type": ""
    },
    "tags": []
   },
   "source": [
    "## Summary of the Question \n",
    "\n",
    "Write a program that collects information about the level of pollution in rivers.\n",
    "This is done by the monitor taking 5 samples at different times during the day measured as a whole number\n",
    "of “colony forming units of bacteria” (CFU) per 100 ml of water."
   ]
  },
  {
   "cell_type": "markdown",
   "metadata": {
    "editable": true,
    "slideshow": {
     "slide_type": ""
    },
    "tags": []
   },
   "source": [
    "## Justification that the program passes this level\n",
    "This is based on tick boxes at start of the question description for this exercise.\n",
    "- I can EXPLAIN HOW MY PROGRAM WORKS\n",
    "- I wrote this program myself\n",
    "- My code uses a for loop that is counter-controlled\n",
    "- My program does NOT use any arrays, or similar structures\n",
    "- My code is literate and is decomposed into various methods which a generalised one can take arguments with thus returning a result\n",
    "- Has useful comments spread out the entire program, simply explaining the purpose of each line\n",
    "- Uses indentation in a way that keeps the code structure clean\n",
    "- Uses final declaration within methods for variables to prevent accidental modification, after finishing its calculations\n",
    "- All variables are defined within methods\n",
    "- All variable names are defined with purposeful names"
   ]
  },
  {
   "cell_type": "markdown",
   "metadata": {},
   "source": [
    "## The literate program development"
   ]
  },
  {
   "cell_type": "markdown",
   "metadata": {
    "editable": true,
    "slideshow": {
     "slide_type": ""
    },
    "tags": []
   },
   "source": [
    "### pollutionQualityReport\n",
    "\n",
    "#### What it does\n",
    "Retrieves 5 readings of water quality and its worst/avg quality\n",
    "\n",
    "#### Implementation (how it works)\n",
    "Initalises a worst quality and average quality variables, to keep track of said attributes for the given readings of the water quality.\n",
    "<br>Uses a for loop to ask the user to input 5 readings of the water quality.<br>Worst quality is kept track of by comparing the current quality entered, and the current value in the variable by using Math.max. \n",
    "<br>Finds the average quality by summing all 5 readings and dividing by 5 to find the average.\n",
    "<br>If an invalid input (negative readings) are inputted then it will force quit the program and ask the user to restart."
   ]
  },
  {
   "cell_type": "code",
   "execution_count": 1,
   "metadata": {},
   "outputs": [],
   "source": [
    "public static int pollutionQualityReport() {\n",
    "        int worstQuality = 0; // Initializes the worst quality variable\n",
    "        int averageQuality = 0; // Initializes the average quality variable\n",
    "\n",
    "        for (int i = 0; i < 5; i++) { // Loops five times to gather five water samples\n",
    "            Scanner scanner = new Scanner(System.in);\n",
    "            System.out.print(\"Water sample \" + (i+1) + \": Give the water quality measurement in CFU/100mL? \");\n",
    "            int currQuality = scanner.nextInt();\n",
    "            if (currQuality < 0) {\n",
    "                System.out.println(\"That sample is invalid. Start again.\");\n",
    "                System.exit(0); // Exits the program asking them to restart due to the invalid input\n",
    "            }\n",
    "            averageQuality += currQuality;\n",
    "            worstQuality = Math.max(worstQuality, currQuality); // Keeps track of the worst quality found (highest number entered so far)\n",
    "        }\n",
    "        averageQuality /= 5; // Calculates the average quality\n",
    "        System.out.println(\"Average water quality today: \" + averageQuality + \" CFU/100mL\"); // State the average quality\n",
    "        return worstQuality; // Returns the worst quality found\n",
    "    }"
   ]
  },
  {
   "cell_type": "markdown",
   "metadata": {},
   "source": [
    "#### Testing"
   ]
  },
  {
   "cell_type": "code",
   "execution_count": 3,
   "metadata": {},
   "outputs": [
    {
     "name": "stdout",
     "output_type": "stream",
     "text": [
      "Water sample 1: Give the water quality measurement in CFU/100mL? "
     ]
    },
    {
     "name": "stdin",
     "output_type": "stream",
     "text": [
      " 110\n"
     ]
    },
    {
     "name": "stdout",
     "output_type": "stream",
     "text": [
      "Water sample 2: Give the water quality measurement in CFU/100mL? "
     ]
    },
    {
     "name": "stdin",
     "output_type": "stream",
     "text": [
      " 330\n"
     ]
    },
    {
     "name": "stdout",
     "output_type": "stream",
     "text": [
      "Water sample 3: Give the water quality measurement in CFU/100mL? "
     ]
    },
    {
     "name": "stdin",
     "output_type": "stream",
     "text": [
      " 111\n"
     ]
    },
    {
     "name": "stdout",
     "output_type": "stream",
     "text": [
      "Water sample 4: Give the water quality measurement in CFU/100mL? "
     ]
    },
    {
     "name": "stdin",
     "output_type": "stream",
     "text": [
      " 92\n"
     ]
    },
    {
     "name": "stdout",
     "output_type": "stream",
     "text": [
      "Water sample 5: Give the water quality measurement in CFU/100mL? "
     ]
    },
    {
     "name": "stdin",
     "output_type": "stream",
     "text": [
      " 50\n"
     ]
    },
    {
     "name": "stdout",
     "output_type": "stream",
     "text": [
      "Average water quality today: 138 CFU/100mL\n"
     ]
    },
    {
     "data": {
      "text/plain": [
       "330"
      ]
     },
     "execution_count": 3,
     "metadata": {},
     "output_type": "execute_result"
    }
   ],
   "source": [
    "pollutionQualityReport();"
   ]
  },
  {
   "cell_type": "markdown",
   "metadata": {},
   "source": [
    "### waterQualityChecker\n",
    "\n",
    "#### What it does\n",
    "Determines what the final water quality of the day is dependant on the worst quality found \n",
    "\n",
    "#### Implementation (how it works)\n",
    "Takes the parameter of the worst quality using a final int to prevent modification, then prints out the worst water quality value in CFU/100mL.\n",
    "<br>Afterwards, it prints out the level of the water quality depending on the value of it i.e. GOOD is <= 150, SUFFICIENT is <=350, etc.\n",
    "<br>Returns a string for the level of water quality to be printed out in main."
   ]
  },
  {
   "cell_type": "code",
   "execution_count": 1,
   "metadata": {},
   "outputs": [],
   "source": [
    "public static String waterQualityChecker(final int worstQuality) { // Use final in the parameter to prevent modification of the argument\n",
    "        final int GOOD_QUALITY = 150;\n",
    "        final int SUFFICIENT_QUALITY = 350;\n",
    "    \n",
    "        System.out.println(\"Worst water quality today: \" + worstQuality + \" CFU/100mL\"); // Prints the worst quality found\n",
    "\n",
    "        // Determines the water quality based on the worst quality measurement\n",
    "        if (worstQuality <= GOOD_QUALITY) {\n",
    "            return \"The water quality is GOOD today.\";\n",
    "        }\n",
    "        else if (worstQuality <= SUFFICIENT_QUALITY) {\n",
    "            return \"The water quality is SUFFICIENT today.\";\n",
    "        }\n",
    "        else {\n",
    "            return \"The water quality is POOR today.\";\n",
    "        }\n",
    "    }"
   ]
  },
  {
   "cell_type": "markdown",
   "metadata": {},
   "source": [
    "#### Testing"
   ]
  },
  {
   "cell_type": "code",
   "execution_count": 7,
   "metadata": {},
   "outputs": [
    {
     "name": "stdout",
     "output_type": "stream",
     "text": [
      "Worst water quality today: 220 CFU/100mL\n"
     ]
    },
    {
     "data": {
      "text/plain": [
       "The water quality is SUFFICIENT today."
      ]
     },
     "execution_count": 7,
     "metadata": {},
     "output_type": "execute_result"
    }
   ],
   "source": [
    "waterQualityChecker(220)"
   ]
  },
  {
   "cell_type": "markdown",
   "metadata": {},
   "source": [
    "## The complete program\n",
    "This version will only compile here. To run it copy it into a file called initials.java on your local computer and compile and run it there."
   ]
  },
  {
   "cell_type": "code",
   "execution_count": 2,
   "metadata": {},
   "outputs": [],
   "source": [
    "/* ***************************************\n",
    "  @author    Andy Dishnica\n",
    "  @SID       250334126\n",
    "  @date      28 September 2025\n",
    "  @version   1\n",
    "\n",
    "    This program calculates the water quality of a river based on user input of five water samples.\n",
    "   ****************************************/\n",
    "\n",
    "import java.util.Scanner;\n",
    "\n",
    "class RiverPollutionCount {\n",
    "    public static void main(String[] args) {\n",
    "        String waterQualityToday = waterQualityChecker(pollutionQualityReport()); // Gathers the report of the worst quality and stores the result\n",
    "        System.out.println(waterQualityToday); // Prints the water quality result\n",
    "    }\n",
    "\n",
    "    public static int pollutionQualityReport() {\n",
    "        int worstQuality = 0; // Initializes the worst quality variable\n",
    "        int averageQuality = 0; // Initializes the average quality variable\n",
    "\n",
    "        for (int i = 0; i < 5; i++) { // Loops five times to gather five water samples\n",
    "            Scanner scanner = new Scanner(System.in);\n",
    "            System.out.print(\"Water sample \" + (i+1) + \": Give the water quality measurement in CFU/100mL? \");\n",
    "            int currQuality = scanner.nextInt();\n",
    "            if (currQuality < 0) {\n",
    "                System.out.println(\"That sample is invalid. Start again.\");\n",
    "                System.exit(0); // Exits the program asking them to restart due to the invalid input\n",
    "            }\n",
    "            averageQuality += currQuality;\n",
    "            worstQuality = Math.max(worstQuality, currQuality); // Keeps track of the worst quality found (highest number entered so far)\n",
    "        }\n",
    "        averageQuality /= 5; // Calculates the average quality\n",
    "        System.out.println(\"Average water quality today: \" + averageQuality + \" CFU/100mL\"); // State the average quality\n",
    "        return worstQuality; // Returns the worst quality found\n",
    "    }\n",
    "\n",
    "    public static String waterQualityChecker(final int worstQuality) { // Use final in the parameter to prevent modification of the argument\n",
    "        System.out.println(\"Worst water quality today: \" + worstQuality + \" CFU/100mL\"); // Prints the worst quality found\n",
    "\n",
    "        final int GOOD_QUALITY = 150;\n",
    "        final int SUFFICIENT_QUALITY = 350;\n",
    "        \n",
    "        // Determines the water quality based on the worst quality measurement\n",
    "        if (worstQuality <= GOOD_QUALITY) {\n",
    "            return \"The water quality is GOOD today.\";\n",
    "        }\n",
    "        else if (worstQuality <= SUFFICIENT_QUALITY) {\n",
    "            return \"The water quality is SUFFICIENT today.\";\n",
    "        }\n",
    "        else {\n",
    "            return \"The water quality is POOR today.\";\n",
    "        }\n",
    "    }\n",
    "\n",
    "}"
   ]
  },
  {
   "cell_type": "markdown",
   "metadata": {},
   "source": [
    "## Testing the complete program\n",
    "Run the following test calls for each test in the test plan to run the complete program."
   ]
  },
  {
   "cell_type": "markdown",
   "metadata": {
    "editable": true,
    "slideshow": {
     "slide_type": ""
    },
    "tags": []
   },
   "source": [
    "### Test Plan: Test 1\n",
    "\n",
    "If the following input is given by the user when asked in turn:\n",
    "```\n",
    "130\n",
    "225\n",
    "330\n",
    "111\n",
    "92\n",
    "...\n",
    "```\n",
    "The program should output exactly (not including the input):\n",
    "```java\n",
    "\"Average water quality today: 177 CFU/100mL\"\n",
    "\"Worst water quality today: 330 CFU/100mL\"\n",
    "\"The water quality is SUFFICIENT today.\"\n",
    "```"
   ]
  },
  {
   "cell_type": "code",
   "execution_count": null,
   "metadata": {},
   "outputs": [],
   "source": [
    "// add a call to main in the box to run the test eg\n",
    "// name.main(null);\n",
    "// It should call the method that does the work.\n",
    "// this method will be called by main in the full program below"
   ]
  },
  {
   "cell_type": "code",
   "execution_count": 2,
   "metadata": {},
   "outputs": [
    {
     "name": "stdout",
     "output_type": "stream",
     "text": [
      "Water sample 1: Give the water quality measurement in CFU/100mL? "
     ]
    },
    {
     "name": "stdin",
     "output_type": "stream",
     "text": [
      " 130\n"
     ]
    },
    {
     "name": "stdout",
     "output_type": "stream",
     "text": [
      "Water sample 2: Give the water quality measurement in CFU/100mL? "
     ]
    },
    {
     "name": "stdin",
     "output_type": "stream",
     "text": [
      " 225\n"
     ]
    },
    {
     "name": "stdout",
     "output_type": "stream",
     "text": [
      "Water sample 3: Give the water quality measurement in CFU/100mL? "
     ]
    },
    {
     "name": "stdin",
     "output_type": "stream",
     "text": [
      " 330\n"
     ]
    },
    {
     "name": "stdout",
     "output_type": "stream",
     "text": [
      "Water sample 4: Give the water quality measurement in CFU/100mL? "
     ]
    },
    {
     "name": "stdin",
     "output_type": "stream",
     "text": [
      " 111\n"
     ]
    },
    {
     "name": "stdout",
     "output_type": "stream",
     "text": [
      "Water sample 5: Give the water quality measurement in CFU/100mL? "
     ]
    },
    {
     "name": "stdin",
     "output_type": "stream",
     "text": [
      " 92\n"
     ]
    },
    {
     "name": "stdout",
     "output_type": "stream",
     "text": [
      "Average water quality today: 177 CFU/100mL\n",
      "Worst water quality today: 330 CFU/100mL\n",
      "The water quality is SUFFICIENT today.\n"
     ]
    }
   ],
   "source": [
    "RiverPollutionCount.main(null);"
   ]
  },
  {
   "cell_type": "markdown",
   "metadata": {},
   "source": [
    "### Test Plan: Test 2\n",
    "\n",
    "If the following input is given by the user when asked in turn:\n",
    "```\n",
    "330\n",
    "225\n",
    "130\n",
    "111\n",
    "94\n",
    "...\n",
    "```\n",
    "The program should output exactly (not including the input):\n",
    "```java\n",
    "\"Average water quality today: 178 CFU/100mL\"\n",
    "\"Worst water quality today: 330 CFU/100mL\"\n",
    "\"The water quality is SUFFICIENT today.\"\n",
    "```"
   ]
  },
  {
   "cell_type": "code",
   "execution_count": 3,
   "metadata": {},
   "outputs": [
    {
     "name": "stdout",
     "output_type": "stream",
     "text": [
      "Water sample 1: Give the water quality measurement in CFU/100mL? "
     ]
    },
    {
     "name": "stdin",
     "output_type": "stream",
     "text": [
      " 330\n"
     ]
    },
    {
     "name": "stdout",
     "output_type": "stream",
     "text": [
      "Water sample 2: Give the water quality measurement in CFU/100mL? "
     ]
    },
    {
     "name": "stdin",
     "output_type": "stream",
     "text": [
      " 225\n"
     ]
    },
    {
     "name": "stdout",
     "output_type": "stream",
     "text": [
      "Water sample 3: Give the water quality measurement in CFU/100mL? "
     ]
    },
    {
     "name": "stdin",
     "output_type": "stream",
     "text": [
      " 130\n"
     ]
    },
    {
     "name": "stdout",
     "output_type": "stream",
     "text": [
      "Water sample 4: Give the water quality measurement in CFU/100mL? "
     ]
    },
    {
     "name": "stdin",
     "output_type": "stream",
     "text": [
      " 111\n"
     ]
    },
    {
     "name": "stdout",
     "output_type": "stream",
     "text": [
      "Water sample 5: Give the water quality measurement in CFU/100mL? "
     ]
    },
    {
     "name": "stdin",
     "output_type": "stream",
     "text": [
      " 94\n"
     ]
    },
    {
     "name": "stdout",
     "output_type": "stream",
     "text": [
      "Average water quality today: 178 CFU/100mL\n",
      "Worst water quality today: 330 CFU/100mL\n",
      "The water quality is SUFFICIENT today.\n"
     ]
    }
   ],
   "source": [
    "RiverPollutionCount.main(null);"
   ]
  },
  {
   "cell_type": "markdown",
   "metadata": {},
   "source": [
    "### Test Plan: Test 3\n",
    "\n",
    "If the following input is given by the user when asked in turn:\n",
    "```\n",
    "100\n",
    "200\n",
    "300\n",
    "400\n",
    "500\n",
    "...\n",
    "```\n",
    "The program should output exactly (not including the input):\n",
    "```java\n",
    "\"Average water quality today: 300 CFU/100mL\"\n",
    "\"Worst water quality today: 500 CFU/100mL\"\n",
    "\"The water quality is POOR today.\"\n",
    "```"
   ]
  },
  {
   "cell_type": "code",
   "execution_count": 4,
   "metadata": {},
   "outputs": [
    {
     "name": "stdout",
     "output_type": "stream",
     "text": [
      "Water sample 1: Give the water quality measurement in CFU/100mL? "
     ]
    },
    {
     "name": "stdin",
     "output_type": "stream",
     "text": [
      " 100\n"
     ]
    },
    {
     "name": "stdout",
     "output_type": "stream",
     "text": [
      "Water sample 2: Give the water quality measurement in CFU/100mL? "
     ]
    },
    {
     "name": "stdin",
     "output_type": "stream",
     "text": [
      " 200\n"
     ]
    },
    {
     "name": "stdout",
     "output_type": "stream",
     "text": [
      "Water sample 3: Give the water quality measurement in CFU/100mL? "
     ]
    },
    {
     "name": "stdin",
     "output_type": "stream",
     "text": [
      " 300\n"
     ]
    },
    {
     "name": "stdout",
     "output_type": "stream",
     "text": [
      "Water sample 4: Give the water quality measurement in CFU/100mL? "
     ]
    },
    {
     "name": "stdin",
     "output_type": "stream",
     "text": [
      " 400\n"
     ]
    },
    {
     "name": "stdout",
     "output_type": "stream",
     "text": [
      "Water sample 5: Give the water quality measurement in CFU/100mL? "
     ]
    },
    {
     "name": "stdin",
     "output_type": "stream",
     "text": [
      " 500\n"
     ]
    },
    {
     "name": "stdout",
     "output_type": "stream",
     "text": [
      "Average water quality today: 300 CFU/100mL\n",
      "Worst water quality today: 500 CFU/100mL\n",
      "The water quality is POOR today.\n"
     ]
    }
   ],
   "source": [
    "RiverPollutionCount.main(null);"
   ]
  },
  {
   "cell_type": "markdown",
   "metadata": {},
   "source": [
    "### Test Plan: Test 4\n",
    "\n",
    "If the following input is given by the user when asked in turn:\n",
    "```\n",
    "150\n",
    "250\n",
    "350\n",
    "350\n",
    "350\n",
    "...\n",
    "```\n",
    "The program should output exactly (not including the input):\n",
    "```java\n",
    "\"Average water quality today: 290 CFU/100mL\"\n",
    "\"Worst water quality today: 350 CFU/100mL\"\n",
    "\"The water quality is SUFFICIENT today.\"\n",
    "```"
   ]
  },
  {
   "cell_type": "code",
   "execution_count": 5,
   "metadata": {},
   "outputs": [
    {
     "name": "stdout",
     "output_type": "stream",
     "text": [
      "Water sample 1: Give the water quality measurement in CFU/100mL? "
     ]
    },
    {
     "name": "stdin",
     "output_type": "stream",
     "text": [
      " 150\n"
     ]
    },
    {
     "name": "stdout",
     "output_type": "stream",
     "text": [
      "Water sample 2: Give the water quality measurement in CFU/100mL? "
     ]
    },
    {
     "name": "stdin",
     "output_type": "stream",
     "text": [
      " 250\n"
     ]
    },
    {
     "name": "stdout",
     "output_type": "stream",
     "text": [
      "Water sample 3: Give the water quality measurement in CFU/100mL? "
     ]
    },
    {
     "name": "stdin",
     "output_type": "stream",
     "text": [
      " 350\n"
     ]
    },
    {
     "name": "stdout",
     "output_type": "stream",
     "text": [
      "Water sample 4: Give the water quality measurement in CFU/100mL? "
     ]
    },
    {
     "name": "stdin",
     "output_type": "stream",
     "text": [
      " 350\n"
     ]
    },
    {
     "name": "stdout",
     "output_type": "stream",
     "text": [
      "Water sample 5: Give the water quality measurement in CFU/100mL? "
     ]
    },
    {
     "name": "stdin",
     "output_type": "stream",
     "text": [
      " 350\n"
     ]
    },
    {
     "name": "stdout",
     "output_type": "stream",
     "text": [
      "Average water quality today: 290 CFU/100mL\n",
      "Worst water quality today: 350 CFU/100mL\n",
      "The water quality is SUFFICIENT today.\n"
     ]
    }
   ],
   "source": [
    "RiverPollutionCount.main(null);"
   ]
  },
  {
   "cell_type": "markdown",
   "metadata": {},
   "source": [
    "### Test Plan: Test 5\n",
    "\n",
    "If the following input is given by the user when asked in turn:\n",
    "```\n",
    "150\n",
    "250\n",
    "349\n",
    "0\n",
    "349\n",
    "...\n",
    "```\n",
    "The program should output exactly (not including the input):\n",
    "```java\n",
    "\"Average water quality today: 219 CFU/100mL\"\n",
    "\"Worst water quality today: 349 CFU/100mL\"\n",
    "\"The water quality is SUFFICIENT today.\"\n",
    "```"
   ]
  },
  {
   "cell_type": "code",
   "execution_count": 6,
   "metadata": {},
   "outputs": [
    {
     "name": "stdout",
     "output_type": "stream",
     "text": [
      "Water sample 1: Give the water quality measurement in CFU/100mL? "
     ]
    },
    {
     "name": "stdin",
     "output_type": "stream",
     "text": [
      " 150\n"
     ]
    },
    {
     "name": "stdout",
     "output_type": "stream",
     "text": [
      "Water sample 2: Give the water quality measurement in CFU/100mL? "
     ]
    },
    {
     "name": "stdin",
     "output_type": "stream",
     "text": [
      " 250\n"
     ]
    },
    {
     "name": "stdout",
     "output_type": "stream",
     "text": [
      "Water sample 3: Give the water quality measurement in CFU/100mL? "
     ]
    },
    {
     "name": "stdin",
     "output_type": "stream",
     "text": [
      " 349\n"
     ]
    },
    {
     "name": "stdout",
     "output_type": "stream",
     "text": [
      "Water sample 4: Give the water quality measurement in CFU/100mL? "
     ]
    },
    {
     "name": "stdin",
     "output_type": "stream",
     "text": [
      " 0\n"
     ]
    },
    {
     "name": "stdout",
     "output_type": "stream",
     "text": [
      "Water sample 5: Give the water quality measurement in CFU/100mL? "
     ]
    },
    {
     "name": "stdin",
     "output_type": "stream",
     "text": [
      " 349\n"
     ]
    },
    {
     "name": "stdout",
     "output_type": "stream",
     "text": [
      "Average water quality today: 219 CFU/100mL\n",
      "Worst water quality today: 349 CFU/100mL\n",
      "The water quality is SUFFICIENT today.\n"
     ]
    }
   ],
   "source": [
    "RiverPollutionCount.main(null);"
   ]
  },
  {
   "cell_type": "markdown",
   "metadata": {},
   "source": [
    "### Test Plan: Test 6\n",
    "\n",
    "If the following input is given by the user when asked in turn:\n",
    "```\n",
    "0\n",
    "0\n",
    "0\n",
    "0\n",
    "0\n",
    "...\n",
    "```\n",
    "The program should output exactly (not including the input):\n",
    "```java\n",
    "\"Average water quality today: 0 CFU/100mL\"\n",
    "\"Worst water quality today: 0 CFU/100mL\"\n",
    "\"The water quality is GOOD today.\"\n",
    "```"
   ]
  },
  {
   "cell_type": "code",
   "execution_count": 7,
   "metadata": {},
   "outputs": [
    {
     "name": "stdout",
     "output_type": "stream",
     "text": [
      "Water sample 1: Give the water quality measurement in CFU/100mL? "
     ]
    },
    {
     "name": "stdin",
     "output_type": "stream",
     "text": [
      " 0\n"
     ]
    },
    {
     "name": "stdout",
     "output_type": "stream",
     "text": [
      "Water sample 2: Give the water quality measurement in CFU/100mL? "
     ]
    },
    {
     "name": "stdin",
     "output_type": "stream",
     "text": [
      " 0\n"
     ]
    },
    {
     "name": "stdout",
     "output_type": "stream",
     "text": [
      "Water sample 3: Give the water quality measurement in CFU/100mL? "
     ]
    },
    {
     "name": "stdin",
     "output_type": "stream",
     "text": [
      " 0\n"
     ]
    },
    {
     "name": "stdout",
     "output_type": "stream",
     "text": [
      "Water sample 4: Give the water quality measurement in CFU/100mL? "
     ]
    },
    {
     "name": "stdin",
     "output_type": "stream",
     "text": [
      " 0\n"
     ]
    },
    {
     "name": "stdout",
     "output_type": "stream",
     "text": [
      "Water sample 5: Give the water quality measurement in CFU/100mL? "
     ]
    },
    {
     "name": "stdin",
     "output_type": "stream",
     "text": [
      " 0\n"
     ]
    },
    {
     "name": "stdout",
     "output_type": "stream",
     "text": [
      "Average water quality today: 0 CFU/100mL\n",
      "Worst water quality today: 0 CFU/100mL\n",
      "The water quality is GOOD today.\n"
     ]
    }
   ],
   "source": [
    "RiverPollutionCount.main(null);"
   ]
  },
  {
   "cell_type": "markdown",
   "metadata": {},
   "source": [
    "### Test Plan: Test 7\n",
    "\n",
    "If the following input is given by the user when asked in turn:\n",
    "```\n",
    "0\n",
    "1\n",
    "0\n",
    "1\n",
    "0\n",
    "...\n",
    "```\n",
    "The program should output exactly (not including the input):\n",
    "```java\n",
    "\"Average water quality today: 0 CFU/100mL\"\n",
    "\"Worst water quality today: 1 CFU/100mL\"\n",
    "\"The water quality is GOOD today.\"\n",
    "\n",
    "```"
   ]
  },
  {
   "cell_type": "code",
   "execution_count": 8,
   "metadata": {},
   "outputs": [
    {
     "name": "stdout",
     "output_type": "stream",
     "text": [
      "Water sample 1: Give the water quality measurement in CFU/100mL? "
     ]
    },
    {
     "name": "stdin",
     "output_type": "stream",
     "text": [
      " 0\n"
     ]
    },
    {
     "name": "stdout",
     "output_type": "stream",
     "text": [
      "Water sample 2: Give the water quality measurement in CFU/100mL? "
     ]
    },
    {
     "name": "stdin",
     "output_type": "stream",
     "text": [
      " 1\n"
     ]
    },
    {
     "name": "stdout",
     "output_type": "stream",
     "text": [
      "Water sample 3: Give the water quality measurement in CFU/100mL? "
     ]
    },
    {
     "name": "stdin",
     "output_type": "stream",
     "text": [
      " 0\n"
     ]
    },
    {
     "name": "stdout",
     "output_type": "stream",
     "text": [
      "Water sample 4: Give the water quality measurement in CFU/100mL? "
     ]
    },
    {
     "name": "stdin",
     "output_type": "stream",
     "text": [
      " 1\n"
     ]
    },
    {
     "name": "stdout",
     "output_type": "stream",
     "text": [
      "Water sample 5: Give the water quality measurement in CFU/100mL? "
     ]
    },
    {
     "name": "stdin",
     "output_type": "stream",
     "text": [
      " 0\n"
     ]
    },
    {
     "name": "stdout",
     "output_type": "stream",
     "text": [
      "Average water quality today: 0 CFU/100mL\n",
      "Worst water quality today: 1 CFU/100mL\n",
      "The water quality is GOOD today.\n"
     ]
    }
   ],
   "source": [
    "RiverPollutionCount.main(null);"
   ]
  },
  {
   "cell_type": "markdown",
   "metadata": {},
   "source": [
    "### Test Plan: Test 8\n",
    "\n",
    "If the following input is given by the user when asked in turn:\n",
    "```\n",
    "0\n",
    "-1\n",
    "...\n",
    "```\n",
    "The program should output exactly (not including the input):\n",
    "```java\n",
    "\"That sample is invalid. Start again.\"\n",
    "```"
   ]
  },
  {
   "cell_type": "code",
   "execution_count": null,
   "metadata": {},
   "outputs": [
    {
     "name": "stdout",
     "output_type": "stream",
     "text": [
      "Water sample 1: Give the water quality measurement in CFU/100mL? "
     ]
    },
    {
     "name": "stdin",
     "output_type": "stream",
     "text": [
      " 0\n"
     ]
    },
    {
     "name": "stdout",
     "output_type": "stream",
     "text": [
      "Water sample 2: Give the water quality measurement in CFU/100mL? "
     ]
    },
    {
     "name": "stdin",
     "output_type": "stream",
     "text": [
      " -1\n"
     ]
    },
    {
     "name": "stdout",
     "output_type": "stream",
     "text": [
      "That sample is invalid. Start again.\n"
     ]
    }
   ],
   "source": [
    "RiverPollutionCount.main(null);"
   ]
  },
  {
   "cell_type": "markdown",
   "metadata": {},
   "source": [
    "**END OF LITERATE DOCUMENT**"
   ]
  }
 ],
 "metadata": {
  "kernelspec": {
   "display_name": "Java",
   "language": "java",
   "name": "java"
  },
  "language_info": {
   "codemirror_mode": "java",
   "file_extension": ".jshell",
   "mimetype": "text/x-java-source",
   "name": "Java",
   "pygments_lexer": "java",
   "version": "11.0.8+10-LTS"
  }
 },
 "nbformat": 4,
 "nbformat_minor": 4
}
