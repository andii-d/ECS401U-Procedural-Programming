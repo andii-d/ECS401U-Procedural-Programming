{
 "cells": [
  {
   "cell_type": "markdown",
   "metadata": {
    "tags": []
   },
   "source": [
    "# Short Assessed Exercise\n",
    "# Level 3\n",
    "## Andy Dishnica\n",
    "## 250334126\n",
    "## 27/09/25\n",
    "## Version 1\n"
   ]
  },
  {
   "cell_type": "markdown",
   "metadata": {},
   "source": [
    "## Summary of the Question \n",
    "\n",
    "Write a program that works out the amount a person has to pay to enter a swimming pool. <br>The person is asked their age to determine the price. \n",
    "<br>Full entry currently costs 12 pounds.\n",
    "<br>Children (under 18) are half price. Old age pensioners (60 or over) get a 2 pound discount. <br>Anyone who is unemployed (including OAPs and children) then get a further 3 pound discount. <br>The program tells them the price to pay."
   ]
  },
  {
   "cell_type": "markdown",
   "metadata": {},
   "source": [
    "## Justification that the program passes this level\n",
    "This is based on tick boxes at start of the question description for this exercise.\n",
    "- I can EXPLAIN HOW MY PROGRAM WORKS\n",
    "- I wrote this program myself\n",
    "- My code uses if-then-else statements\n",
    "- My code is literate\n",
    "- My code is split into methods that can take arguments and return values\n",
    "- My code uses final variables to store literal values than to have them scattered across the program\n",
    "- My code defines its variables within methods\n",
    "- My code includes useful and understanding comments\n",
    "- My code uses formal indentation to show program structure clarity"
   ]
  },
  {
   "cell_type": "markdown",
   "metadata": {},
   "source": [
    "## The literate program development"
   ]
  },
  {
   "cell_type": "markdown",
   "metadata": {
    "jp-MarkdownHeadingCollapsed": true
   },
   "source": [
    "### getAge\n",
    "\n",
    "#### What it does\n",
    "Gets the user's age\n",
    "\n",
    "#### Implementation (how it works)\n",
    "Asks the user to input their age by printing out a prompt, followed by using Scanner to record an integer input and returning that value"
   ]
  },
  {
   "cell_type": "code",
   "execution_count": 2,
   "metadata": {},
   "outputs": [],
   "source": [
    "public static int getAge() {\n",
    "        Scanner scanner = new Scanner(System.in);\n",
    "        System.out.println(\"How old are you?\");\n",
    "        int age = scanner.nextInt(); // Read the user's age being inputted, as an integer\n",
    "        scanner.nextLine(); // Clear the newline so other methods run independently\n",
    "        return age;\n",
    "    }"
   ]
  },
  {
   "cell_type": "markdown",
   "metadata": {},
   "source": [
    "#### Testing"
   ]
  },
  {
   "cell_type": "code",
   "execution_count": 3,
   "metadata": {},
   "outputs": [
    {
     "name": "stdout",
     "output_type": "stream",
     "text": [
      "How old are you?\n"
     ]
    },
    {
     "name": "stdin",
     "output_type": "stream",
     "text": [
      " 17\n"
     ]
    },
    {
     "data": {
      "text/plain": [
       "17"
      ]
     },
     "execution_count": 3,
     "metadata": {},
     "output_type": "execute_result"
    }
   ],
   "source": [
    "getAge()"
   ]
  },
  {
   "cell_type": "markdown",
   "metadata": {},
   "source": [
    "### isUnemployed\n",
    "\n",
    "#### What it does\n",
    "Asks if the user is unemployed\n",
    "\n",
    "#### Implementation (how it works)\n",
    "Asks the user to input Y/N, ignoring the case of the letter. If the input is 'Y', return true; else false. Uses Scanner to record the input, storing the response as a string.\n",
    "Will recursively call until a Y/N is entered."
   ]
  },
  {
   "cell_type": "code",
   "execution_count": 2,
   "metadata": {},
   "outputs": [],
   "source": [
    "public static boolean isUnemployed() { // Checks if the user is unemployed\n",
    "        Scanner scanner = new Scanner(System.in);\n",
    "        System.out.println(\"Are you unemployed? Y/N: \");\n",
    "        String response = scanner.nextLine().trim(); // trim spaces\n",
    "        if (!response.equalsIgnoreCase(\"N\") && !response.equalsIgnoreCase(\"Y\")) {\n",
    "            System.out.println(\"You must answer Y for yes or N for no. Please try again.\");\n",
    "            System.exit(0); // Quit the program and make them restart it to find their correct price\n",
    "        }\n",
    "        return response.equalsIgnoreCase(\"Y\"); // return true if 'Y', false otherwise\n",
    "    }"
   ]
  },
  {
   "cell_type": "markdown",
   "metadata": {},
   "source": [
    "#### Testing"
   ]
  },
  {
   "cell_type": "code",
   "execution_count": null,
   "metadata": {},
   "outputs": [
    {
     "name": "stdout",
     "output_type": "stream",
     "text": [
      "Are you unemployed? Y/N: \n"
     ]
    },
    {
     "name": "stdin",
     "output_type": "stream",
     "text": [
      " a\n"
     ]
    },
    {
     "name": "stdout",
     "output_type": "stream",
     "text": [
      "You must answer Y for yes or N for no. Please try again.\n"
     ]
    }
   ],
   "source": [
    "isUnemployed()"
   ]
  },
  {
   "cell_type": "markdown",
   "metadata": {
    "editable": true,
    "slideshow": {
     "slide_type": ""
    },
    "tags": []
   },
   "source": [
    "### priceChecker\n",
    "\n",
    "\n",
    "#### What it does\n",
    "\n",
    "Calculates the final price to enter the pool\n",
    "\n",
    "#### Implementation (how it works)\n",
    "- Intialises 3 final variables: the base price, OAP discount and unemployment discount.\n",
    "- Checks whether the age given is under 18 (children's discount being half price), or 60+ (applying OAP discount)\n",
    "- Checks whether the unemployment status (further 3 pound discounted if so, else no discount)\n",
    "- Prints the final price\n"
   ]
  },
  {
   "cell_type": "code",
   "execution_count": 8,
   "metadata": {},
   "outputs": [],
   "source": [
    "public static void priceChecker(int actualAge, boolean employmentStatus) { // Calculates and displays the pool price based on age and employment status\n",
    "        final int BASE_PRICE = 12; // Base pool price\n",
    "        final int OAP_DISCOUNT = 2; // Pensioner discount\n",
    "        final int UNEMPLOYMENT_DISCOUNT = 3; // Unemployment discount\n",
    "        int totalPrice = BASE_PRICE; // Initialize total price with base price\n",
    "\n",
    "        // Handle age conditions\n",
    "        if (actualAge < 18) { \n",
    "            totalPrice /= 2; // Half price\n",
    "        } \n",
    "        \n",
    "        else if (actualAge >= 60) { \n",
    "            totalPrice -= OAP_DISCOUNT; // Pensioner discount (£2)\n",
    "        }\n",
    "\n",
    "        // Handle unemployment discount\n",
    "        if (employmentStatus) {\n",
    "            totalPrice -= UNEMPLOYMENT_DISCOUNT; // Unemployment discount (£3)\n",
    "        }\n",
    "\n",
    "        System.out.println(\"Your cost to enter the pool is: £\" + totalPrice); // Display the total price\n",
    "    }"
   ]
  },
  {
   "cell_type": "markdown",
   "metadata": {},
   "source": [
    "#### Testing"
   ]
  },
  {
   "cell_type": "code",
   "execution_count": 10,
   "metadata": {},
   "outputs": [
    {
     "name": "stdout",
     "output_type": "stream",
     "text": [
      "Your cost to enter the pool is: £3\n"
     ]
    }
   ],
   "source": [
    "priceChecker(12, true)"
   ]
  },
  {
   "cell_type": "code",
   "execution_count": 11,
   "metadata": {},
   "outputs": [
    {
     "name": "stdout",
     "output_type": "stream",
     "text": [
      "Your cost to enter the pool is: £12\n"
     ]
    }
   ],
   "source": [
    "priceChecker(25, false)"
   ]
  },
  {
   "cell_type": "code",
   "execution_count": 12,
   "metadata": {},
   "outputs": [
    {
     "name": "stdout",
     "output_type": "stream",
     "text": [
      "Your cost to enter the pool is: £7\n"
     ]
    }
   ],
   "source": [
    "priceChecker(72, true)"
   ]
  },
  {
   "cell_type": "markdown",
   "metadata": {},
   "source": [
    "## The complete program\n",
    "This version will only compile here. To run it copy it into a file called initials.java on your local computer and compile and run it there."
   ]
  },
  {
   "cell_type": "code",
   "execution_count": 1,
   "metadata": {},
   "outputs": [],
   "source": [
    "/* ***************************************\n",
    "  @author    Andy Dishnica\n",
    "  @SID       250334126\n",
    "  @date      27 September 2025\n",
    "  @version   1\n",
    "\n",
    "This program calculates a pool price varying on conditions such as employment status and age,\n",
    "giving a discount on said conditions (e.g., old age pensioners and children receive a discount).\n",
    "****************************************/\n",
    "\n",
    "import java.util.Scanner;\n",
    "\n",
    "public class SwimmingPoolCharges {\n",
    "\n",
    "\n",
    "    public static void main(String[] args) {\n",
    "        final int actualAge = getAge(); // Call the method to get the user's age\n",
    "        final boolean employmentStatus = isUnemployed(); // Call the method to get the user's employment status\n",
    "        priceChecker(actualAge, employmentStatus); // Call the method to calculate and display the pool price\n",
    "    }\n",
    "\n",
    "    public static int getAge() {\n",
    "        Scanner scanner = new Scanner(System.in);\n",
    "        System.out.println(\"How old are you?\");\n",
    "        int age = scanner.nextInt(); // Read the user's age being inputted, as an integer\n",
    "        scanner.nextLine(); // Clear the newline so other methods run independently\n",
    "        return age;\n",
    "    }\n",
    "\n",
    "    public static boolean isUnemployed() { // Checks if the user is unemployed\n",
    "        Scanner scanner = new Scanner(System.in);\n",
    "        System.out.println(\"Are you unemployed? Y/N: \");\n",
    "        String response = scanner.nextLine().trim(); // trim spaces\n",
    "        if (!response.equalsIgnoreCase(\"N\") && !response.equalsIgnoreCase(\"Y\")) {\n",
    "            System.out.println(\"You must answer Y for yes or N for no. Please try again.\");\n",
    "            System.exit(0); // Quit the program and make them restart it to find their correct price\n",
    "        }\n",
    "        return response.equalsIgnoreCase(\"Y\"); // return true if 'Y', false otherwise\n",
    "    }\n",
    "\n",
    "    public static void priceChecker(int actualAge, boolean employmentStatus) { // Calculates and displays the pool price based on age and employment status\n",
    "        final int BASE_PRICE = 12; // Base pool price\n",
    "        final int OAP_DISCOUNT = 2; // Pensioner discount\n",
    "        final int UNEMPLOYMENT_DISCOUNT = 3; // Unemployment discount\n",
    "        int totalPrice = BASE_PRICE; // Initialize total price with base price\n",
    "\n",
    "        // Handle age conditions\n",
    "        if (actualAge < 18) { \n",
    "            totalPrice /= 2; // Half price\n",
    "        } \n",
    "        \n",
    "        else if (actualAge >= 60) { \n",
    "            totalPrice -= OAP_DISCOUNT; // Pensioner discount (£2)\n",
    "        }\n",
    "\n",
    "        // Handle unemployment discount\n",
    "        if (employmentStatus) {\n",
    "            totalPrice -= UNEMPLOYMENT_DISCOUNT; // Unemployment discount (£3)\n",
    "        }\n",
    "\n",
    "        System.out.println(\"Your cost to enter the pool is: £\" + totalPrice); // Display the total price\n",
    "    }\n",
    "}"
   ]
  },
  {
   "cell_type": "markdown",
   "metadata": {},
   "source": [
    "## Testing the complete program\n",
    "Run the following test calls for each test in the test plan to run the complete program."
   ]
  },
  {
   "cell_type": "markdown",
   "metadata": {},
   "source": [
    "### Test Plan: Test 1\n",
    "\n",
    "If the following input is given by the user when asked in turn:\n",
    "```\n",
    "12\n",
    "y\n",
    "```\n",
    "The program should output exactly (not including the input):\n",
    "```java\n",
    "\"Your cost to enter the pool is: £3\"\n",
    "```"
   ]
  },
  {
   "cell_type": "code",
   "execution_count": null,
   "metadata": {
    "jp-MarkdownHeadingCollapsed": true
   },
   "outputs": [
    {
     "name": "stdout",
     "output_type": "stream",
     "text": [
      "How old are you?\n"
     ]
    },
    {
     "name": "stdin",
     "output_type": "stream",
     "text": [
      " 55\n"
     ]
    },
    {
     "name": "stdout",
     "output_type": "stream",
     "text": [
      "Are you unemployed? Y/N: \n"
     ]
    },
    {
     "name": "stdin",
     "output_type": "stream",
     "text": [
      " a\n"
     ]
    },
    {
     "name": "stdout",
     "output_type": "stream",
     "text": [
      "You must answer Y for yes or N for no. Please try again.\n"
     ]
    }
   ],
   "source": [
    "SwimmingPoolCharges.main(null);"
   ]
  },
  {
   "cell_type": "markdown",
   "metadata": {},
   "source": [
    "### Test Plan: Test 2\n",
    "\n",
    "If the following input is given by the user when asked in turn:\n",
    "```\n",
    "55\n",
    "a\n",
    "```\n",
    "The program should output exactly (not including the input):\n",
    "```java\n",
    "\"You must answer Y for yes or N for no. Please try again.\"\n",
    "```"
   ]
  },
  {
   "cell_type": "code",
   "execution_count": null,
   "metadata": {},
   "outputs": [
    {
     "name": "stdout",
     "output_type": "stream",
     "text": [
      "How old are you?\n"
     ]
    },
    {
     "name": "stdin",
     "output_type": "stream",
     "text": [
      " 55\n"
     ]
    },
    {
     "name": "stdout",
     "output_type": "stream",
     "text": [
      "Are you unemployed? Y/N: \n"
     ]
    },
    {
     "name": "stdin",
     "output_type": "stream",
     "text": [
      " a\n"
     ]
    },
    {
     "name": "stdout",
     "output_type": "stream",
     "text": [
      "You must answer Y for yes or N for no. Please try again.\n"
     ]
    }
   ],
   "source": [
    "SwimmingPoolCharges.main(null);"
   ]
  },
  {
   "cell_type": "markdown",
   "metadata": {},
   "source": [
    "**END OF LITERATE DOCUMENT**"
   ]
  }
 ],
 "metadata": {
  "kernelspec": {
   "display_name": "Java",
   "language": "java",
   "name": "java"
  },
  "language_info": {
   "codemirror_mode": "java",
   "file_extension": ".jshell",
   "mimetype": "text/x-java-source",
   "name": "Java",
   "pygments_lexer": "java",
   "version": "11.0.8+10-LTS"
  }
 },
 "nbformat": 4,
 "nbformat_minor": 4
}
