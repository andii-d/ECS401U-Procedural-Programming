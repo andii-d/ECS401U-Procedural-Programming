{
 "cells": [
  {
   "cell_type": "markdown",
   "metadata": {
    "tags": []
   },
   "source": [
    "# Short Assessed Exercise\n",
    "# Level  1\n",
    "## Andy Dishnica\n",
    "## 250334126\n",
    "## 23/09/25\n",
    "## Version 1"
   ]
  },
  {
   "cell_type": "markdown",
   "metadata": {},
   "source": [
    "## Summary of the Question \n",
    "\n",
    "Write a program that prints out your initials down the page in block letters using the same letter to draw out each initial (check below). A blank line should separate each initial, which should also be printed by their own individual methods, My initials are AD, so i.e. my program would print:\n",
    "```\n",
    "    A\n",
    "   A A\n",
    "  AAAAA\n",
    " A     A\n",
    "A       A\n",
    "\n",
    "DDDDDD\n",
    "D      D\n",
    "D      DD\n",
    "D      DD\n",
    "D      D\n",
    "DDDDDD\n",
    "\n",
    "```"
   ]
  },
  {
   "cell_type": "markdown",
   "metadata": {},
   "source": [
    "## Justification that the program passes this level\n",
    "This is based on tick boxes at start of the question description for this exercise.\n",
    "- I can explain how my program works\n",
    "- I wrote this program myself\n",
    "- My code uses output instructions\n",
    "- My code compiles and runs in JHUB\n",
    "\n",
    "\n",
    "  _My code is well written such that:_\n",
    "- The methods for the initialis are split\n",
    "- Contains simple comments\n",
    "- Is literate"
   ]
  },
  {
   "cell_type": "markdown",
   "metadata": {},
   "source": [
    "## The literate program development\n"
   ]
  },
  {
   "cell_type": "markdown",
   "metadata": {},
   "source": [
    "### printA\n",
    "\n",
    "#### What it does\n",
    "Prints a large letter A in a block form which consists of the letter 'A' ending with a blank line\n",
    "\n",
    "#### Implementation (how it works)\n",
    "In order, uses multiple print statements consisting of the letter 'A' which is 8 letters wide, and 5 letters tall, ended by blank print statement."
   ]
  },
  {
   "cell_type": "code",
   "execution_count": 22,
   "metadata": {},
   "outputs": [],
   "source": [
    "// Print a large letter A using the letter 'A' for characters\n",
    "\n",
    "public static void printA()\n",
    "{\n",
    "    System.out.println(\"    A\");\n",
    "    System.out.println(\"   A A\");\n",
    "    System.out.println(\"  AAAAA\");\n",
    "    System.out.println(\" A     A\");\n",
    "    System.out.println(\"A       A\");\n",
    "    System.out.println();\n",
    "    return;\n",
    "} // END printA()"
   ]
  },
  {
   "cell_type": "markdown",
   "metadata": {},
   "source": [
    "#### Testing"
   ]
  },
  {
   "cell_type": "code",
   "execution_count": 21,
   "metadata": {},
   "outputs": [
    {
     "name": "stdout",
     "output_type": "stream",
     "text": [
      "    A\n",
      "   A A\n",
      "  AAAAA\n",
      " A     A\n",
      "A       A\n",
      "\n"
     ]
    }
   ],
   "source": [
    "printA();"
   ]
  },
  {
   "cell_type": "markdown",
   "metadata": {},
   "source": [
    "### printD\n",
    "\n",
    "#### What it does\n",
    "\n",
    "Prints a large letter D in a block form which consists of the letter 'D'.\n",
    "\n",
    "#### Implementation (how it works)\n",
    "In order, uses multiple print statements consisting of the letter 'D' which is 9 characters wide and 6 characters tall.\n"
   ]
  },
  {
   "cell_type": "code",
   "execution_count": 25,
   "metadata": {},
   "outputs": [],
   "source": [
    "// Print a large letter D using the letter 'D' for characters\n",
    "public static void printD()\n",
    "{\n",
    "    System.out.println(\"DDDDDD  \");\n",
    "    System.out.println(\"D      D\");\n",
    "    System.out.println(\"D      DD\");\n",
    "    System.out.println(\"D      DD\");\n",
    "    System.out.println(\"D      D\");\n",
    "    System.out.println(\"DDDDDD\");\n",
    "    return;\n",
    "} // END printD"
   ]
  },
  {
   "cell_type": "markdown",
   "metadata": {},
   "source": [
    "#### Testing"
   ]
  },
  {
   "cell_type": "code",
   "execution_count": 26,
   "metadata": {},
   "outputs": [
    {
     "name": "stdout",
     "output_type": "stream",
     "text": [
      "DDDDDD  \n",
      "D      D\n",
      "D      DD\n",
      "D      DD\n",
      "D      D\n",
      "DDDDDD\n"
     ]
    }
   ],
   "source": [
    "printD();\n"
   ]
  },
  {
   "cell_type": "markdown",
   "metadata": {},
   "source": [
    "### printAD\n",
    "\n",
    "\n",
    "#### What it does\n",
    "Prints each inital of A and D, method by method in order, which would print the inital A followed by the initial D below it being separated by a blank line.\n",
    "\n",
    "#### Implementation (how it works)\n",
    "Calls the 'printA' method followed by the 'printD' method\n"
   ]
  },
  {
   "cell_type": "code",
   "execution_count": 28,
   "metadata": {},
   "outputs": [],
   "source": [
    "// Print a large letter A followed by a large letter D below it, with a blank line separating them\n",
    "public static void printAD()\n",
    "{\n",
    "    printA();\n",
    "    printD();\n",
    "    return;\n",
    "} // END printAD()"
   ]
  },
  {
   "cell_type": "markdown",
   "metadata": {},
   "source": [
    "#### Testing"
   ]
  },
  {
   "cell_type": "code",
   "execution_count": 29,
   "metadata": {},
   "outputs": [
    {
     "name": "stdout",
     "output_type": "stream",
     "text": [
      "    A\n",
      "   A A\n",
      "  AAAAA\n",
      " A     A\n",
      "A       A\n",
      "\n",
      "DDDDDD  \n",
      "D      D\n",
      "D      DD\n",
      "D      DD\n",
      "D      D\n",
      "DDDDDD\n"
     ]
    }
   ],
   "source": [
    "printAD();"
   ]
  },
  {
   "cell_type": "markdown",
   "metadata": {},
   "source": [
    "## The complete program\n",
    "This version will only compile here. To run it copy it into a file called initials.java on your local computer and compile and run it there."
   ]
  },
  {
   "cell_type": "code",
   "execution_count": 36,
   "metadata": {},
   "outputs": [],
   "source": [
    "/* ***************************************\n",
    "  @author    Andy Dishnica\n",
    "  @SID       250334126\n",
    "  @date      23 September 2025\n",
    "  @version   1\n",
    "\n",
    "A program that prints out my initals (AD)\n",
    "in large block letters using small letters.\n",
    "   ****************************************/\n",
    "\n",
    "import java.util.Scanner; \n",
    "\n",
    "class initialPrinter \n",
    "{\n",
    "    public static void main (String [] a)\n",
    "    {\n",
    "        printAD(); \n",
    "        return;\n",
    "    } // END main\n",
    "\n",
    "    // Print a large letter A using the letter 'A' for characters\n",
    "    public static void printA()\n",
    "    {\n",
    "        System.out.println(\"    A\");\n",
    "        System.out.println(\"   A A\");\n",
    "        System.out.println(\"  AAAAA\");\n",
    "        System.out.println(\" A     A\");\n",
    "        System.out.println(\"A       A\");\n",
    "        System.out.println();\n",
    "        return;\n",
    "    } // END printA()\n",
    "    \n",
    "    // Print a large letter D using the letter 'D' for characters\n",
    "    public static void printD()\n",
    "    {\n",
    "        System.out.println(\"DDDDDD  \");\n",
    "        System.out.println(\"D      D\");\n",
    "        System.out.println(\"D      DD\");\n",
    "        System.out.println(\"D      DD\");\n",
    "        System.out.println(\"D      D\");\n",
    "        System.out.println(\"DDDDDD\");\n",
    "        return;\n",
    "    } // END printD\n",
    "    \n",
    "   // Print a large letter A followed by a large letter D below it, with a blank line separating them\n",
    "    public static void printAD()\n",
    "    {\n",
    "        printA();\n",
    "        printD();\n",
    "        \n",
    "        return;\n",
    "    } // END printAD()\n",
    "\n",
    "} // END class initialPrinter\n"
   ]
  },
  {
   "cell_type": "markdown",
   "metadata": {},
   "source": [
    "## Testing the complete program\n",
    "Run the following cell to test the complete program. It should print:\n",
    "```\n",
    "    A\n",
    "   A A\n",
    "  AAAAA\n",
    " A     A\n",
    "A       A\n",
    "\n",
    "DDDDDD\n",
    "D      D\n",
    "D      DD\n",
    "D      DD\n",
    "D      D\n",
    "DDDDDD\n",
    "\n",
    "```"
   ]
  },
  {
   "cell_type": "code",
   "execution_count": 37,
   "metadata": {},
   "outputs": [
    {
     "name": "stdout",
     "output_type": "stream",
     "text": [
      "    A\n",
      "   A A\n",
      "  AAAAA\n",
      " A     A\n",
      "A       A\n",
      "\n",
      "DDDDDD  \n",
      "D      D\n",
      "D      DD\n",
      "D      DD\n",
      "D      D\n",
      "DDDDDD\n"
     ]
    }
   ],
   "source": [
    "initialPrinter.main(null);"
   ]
  },
  {
   "cell_type": "markdown",
   "metadata": {},
   "source": [
    "**END OF LITERATE DOCUMENT**"
   ]
  }
 ],
 "metadata": {
  "kernelspec": {
   "display_name": "Java",
   "language": "java",
   "name": "java"
  },
  "language_info": {
   "codemirror_mode": "java",
   "file_extension": ".jshell",
   "mimetype": "text/x-java-source",
   "name": "Java",
   "pygments_lexer": "java",
   "version": "11.0.8+10-LTS"
  }
 },
 "nbformat": 4,
 "nbformat_minor": 4
}
