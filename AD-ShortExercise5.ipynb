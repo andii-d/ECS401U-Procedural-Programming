{
 "cells": [
  {
   "cell_type": "markdown",
   "metadata": {
    "tags": []
   },
   "source": [
    "# Short Assessed Exercise\n",
    "# Level  5\n",
    "## Andy Dishnica\n",
    "## 250334126\n",
    "## 01/10/25\n",
    "## Version 1"
   ]
  },
  {
   "cell_type": "markdown",
   "metadata": {},
   "source": [
    "## Summary of the Question \n",
    "\n",
    "Write a program that collects information about the grades a student received and tells them their final grade."
   ]
  },
  {
   "cell_type": "markdown",
   "metadata": {},
   "source": [
    "## Justification that the program passes this level\n",
    "\n",
    ">This is based on tick boxes at start of the question description for this exercise.\n",
    "- I can EXPLAIN HOW MY PROGRAM WORKS\n",
    "- I wrote this program myself\n",
    "- My code uses for loops and arrays\n",
    "- My code is literate\n",
    "- Uses clear indentation to emphasise good code structure\n",
    "- Contains helpful comments\n",
    "- Uses variable names indicative of their usage\n",
    "- Uses final variables to store literal values\n",
    "- Includes general methods including ones that take multiple arguments including arrays.\n",
    "- All variables are defined in methods.\n",
    "\n",
    "## The literate program development"
   ]
  },
  {
   "cell_type": "markdown",
   "metadata": {
    "jp-MarkdownHeadingCollapsed": true
   },
   "source": [
    "### moduleGradeInput\n",
    "\n",
    "#### What it does\n",
    "Takes the input of the student's grades\n",
    "\n",
    "#### Implementation (how it works)\n",
    "Initialises the list of grades allowed, the list of grades the student will input and the list of grades better than another.\n",
    "<br> Uses a for loop until the end of the list is reached, with each iteration asking the student what amount of grades they got for the current grade displayed.\n",
    "<br>Calls the finalModuleGrade function to split the input logic and the grade calculation logic for readability purposes."
   ]
  },
  {
   "cell_type": "code",
   "execution_count": 1,
   "metadata": {},
   "outputs": [],
   "source": [
    "public static String moduleGradeInput() {\n",
    "        // Implementation for module grade input\n",
    "        final String[] GRADES = {\"A+\", \"A\", \"B\", \"C\", \"D\", \"F\", \"G\"}; // Finalise the set of grades available\n",
    "        int[] studentsGrades = new int[GRADES.length]; // Create an array to store the number of grades the student has\n",
    "        int[] betterGrades = new int [GRADES.length]; // Create an array to store the number of better/equal grades the student has\n",
    "\n",
    "        Scanner scanner = new Scanner(System.in); // Create a Scanner object for user input\n",
    "\n",
    "        for (int i = 0; i < GRADES.length; i++) {\n",
    "            System.out.println(\"How many \" + GRADES[i] + \" grades have you? \");\n",
    "            studentsGrades[i] = scanner.nextInt(); // Store the number of each grade the student has\n",
    "            for (int j = i; j < GRADES.length; j++) { // For each grade inputted, add that number to all the better or equal grades\n",
    "                betterGrades[j] += studentsGrades[i];\n",
    "            }\n",
    "        }\n",
    "\n",
    "        scanner.close(); // Prevent resource leaks\n",
    "\n",
    "        return finalModuleGrade(studentsGrades, betterGrades);\n",
    "    }"
   ]
  },
  {
   "cell_type": "markdown",
   "metadata": {},
   "source": [
    "#### Testing"
   ]
  },
  {
   "cell_type": "code",
   "execution_count": 4,
   "metadata": {},
   "outputs": [
    {
     "name": "stdout",
     "output_type": "stream",
     "text": [
      "How many A+ grades have you? \n"
     ]
    },
    {
     "name": "stdin",
     "output_type": "stream",
     "text": [
      " 3\n"
     ]
    },
    {
     "name": "stdout",
     "output_type": "stream",
     "text": [
      "How many A grades have you? \n"
     ]
    },
    {
     "name": "stdin",
     "output_type": "stream",
     "text": [
      " 5\n"
     ]
    },
    {
     "name": "stdout",
     "output_type": "stream",
     "text": [
      "How many B grades have you? \n"
     ]
    },
    {
     "name": "stdin",
     "output_type": "stream",
     "text": [
      " 2\n"
     ]
    },
    {
     "name": "stdout",
     "output_type": "stream",
     "text": [
      "How many C grades have you? \n"
     ]
    },
    {
     "name": "stdin",
     "output_type": "stream",
     "text": [
      " 6\n"
     ]
    },
    {
     "name": "stdout",
     "output_type": "stream",
     "text": [
      "How many D grades have you? \n"
     ]
    },
    {
     "name": "stdin",
     "output_type": "stream",
     "text": [
      " \n",
      " 2\n"
     ]
    },
    {
     "name": "stdout",
     "output_type": "stream",
     "text": [
      "How many F grades have you? \n"
     ]
    },
    {
     "name": "stdin",
     "output_type": "stream",
     "text": [
      " 1\n"
     ]
    },
    {
     "name": "stdout",
     "output_type": "stream",
     "text": [
      "How many G grades have you? \n"
     ]
    },
    {
     "name": "stdin",
     "output_type": "stream",
     "text": [
      " \n",
      " 2\n"
     ]
    },
    {
     "data": {
      "text/plain": [
       "Q"
      ]
     },
     "execution_count": 4,
     "metadata": {},
     "output_type": "execute_result"
    }
   ],
   "source": [
    "moduleGradeInput();"
   ]
  },
  {
   "cell_type": "markdown",
   "metadata": {
    "jp-MarkdownHeadingCollapsed": true
   },
   "source": [
    "### finalModuleGrade\n",
    "\n",
    "#### What it does\n",
    "\n",
    "Calculates the grade of the module\n",
    "#### Implementation (how it works)\n",
    "Uses the studentsGrades and betterGrades arrays to calculate what grade should be given. \n",
    "<br>For the A+ and higher grades which are based on ONLY A and A+ grades, take their conditions from the studentsGrades array.\n",
    "<br>For the rest of the grades, which have to be a 6 of a certain grade and 8 of the grade below, use the betterGrades array."
   ]
  },
  {
   "cell_type": "code",
   "execution_count": null,
   "metadata": {},
   "outputs": [],
   "source": [
    "public static String finalModuleGrade(int[] studentsGrades, int[] betterGrades) {\n",
    "\n",
    "        String finalGrade = \"Q\"; // Initalise the final grade as Q (will be returned if no other condition is met)\n",
    "\n",
    "        // Determine final grade based on the counts of each grade\n",
    "        // The following conditios check for the final grade based on the exact number of A+ and A grades, hence the use of studentsGrades array\n",
    "        if (studentsGrades[0] == 6 && studentsGrades[1] == 2) { // A*, must have 6 A+ and 2 As\n",
    "            finalGrade = \"A*\";\n",
    "        }\n",
    "        else if (studentsGrades[0] == 5 && studentsGrades[1] == 3) { // A++, must have 5 A+ and 3 As\n",
    "            finalGrade = \"A++\";\n",
    "        }\n",
    "        else if (studentsGrades[0] == 4 && studentsGrades[1] == 4) { // A+, must have 4 A+ and 4 As\n",
    "            finalGrade = \"A+\";\n",
    "        }\n",
    "        // The following conditions check for the final grade based on the number of better or equal grades, hence the use of betterGrades array\n",
    "        else if (betterGrades[1] >= 6 && betterGrades[2] == 8) { // A, must have 6 As or better and 8 Bs or better\n",
    "            finalGrade = \"A\";\n",
    "        }\n",
    "        else if (betterGrades[2] >= 6 && betterGrades[3] == 8) { // B, must have 6 Bs or better and 8 Cs or better\n",
    "            finalGrade = \"B\";\n",
    "        }\n",
    "        else if (betterGrades[3] >= 6 && betterGrades[4] == 8) { // C, must have 6 Cs or better and 8 Ds or better\n",
    "            finalGrade = \"C\";\n",
    "        }\n",
    "        else if (betterGrades[4] >= 6 && betterGrades[5] == 8) { // D, must have 6 Ds or better and 8 Fs or better\n",
    "            finalGrade = \"D\";\n",
    "        }\n",
    "        else if (betterGrades[5] >= 6 && betterGrades[6] == 8) { // F, must have 6 Ds or better and 8 Gs or better\n",
    "            finalGrade = \"F\";\n",
    "        }\n",
    "        else if (betterGrades[6] == 8) { // G, must have 8 Gs\n",
    "            finalGrade = \"G\";\n",
    "        }\n",
    "        \n",
    "        return finalGrade; // Return the final grade\n",
    "    }"
   ]
  },
  {
   "cell_type": "markdown",
   "metadata": {},
   "source": [
    "#### Testing"
   ]
  },
  {
   "cell_type": "code",
   "execution_count": 15,
   "metadata": {},
   "outputs": [
    {
     "name": "stdout",
     "output_type": "stream",
     "text": [
      "B\n"
     ]
    }
   ],
   "source": [
    "int[] studentsGrades = {1, 4, 1, 2, 0, 0, 0};\n",
    "int[] betterGrades = {1, 5, 6, 8, 8, 8, 8};\n",
    "String finalGrade = finalModuleGrade(studentsGrades, betterGrades);\n",
    "System.out.println(finalGrade);"
   ]
  },
  {
   "cell_type": "markdown",
   "metadata": {
    "jp-MarkdownHeadingCollapsed": true
   },
   "source": [
    "## The complete program\n",
    "This version will only compile here. To run it copy it into a file called initials.java on your local computer and compile and run it there."
   ]
  },
  {
   "cell_type": "code",
   "execution_count": 18,
   "metadata": {},
   "outputs": [],
   "source": [
    "/* ***************************************\n",
    "  @author    Andy Dishnica\n",
    "  @SID       250334126\n",
    "  @date      01 October 2025\n",
    "  @version   1\n",
    "\n",
    "    This program calculates the average grade based of a series of grade inputs for the whole module.\n",
    "   ****************************************/\n",
    "\n",
    "import java.util.*;\n",
    "\n",
    "public class ModuleGradeCalculation {\n",
    "    public static void main(String[] args) {\n",
    "        final String StudentGrade = moduleGradeInput(); // Call the moduleGradeInput method to get the student's overall grade and finalise the variable to prevent future modification\n",
    "        System.out.println(\"Your portfolio earned a \" + StudentGrade + \" grade overall.\");\n",
    "    }\n",
    "\n",
    "    public static String moduleGradeInput() {\n",
    "        // Implementation for module grade input\n",
    "        final String[] GRADES = {\"A+\", \"A\", \"B\", \"C\", \"D\", \"F\", \"G\"}; // Finalise the set of grades available\n",
    "        int[] studentsGrades = new int[GRADES.length]; // Create an array to store the number of grades the student has\n",
    "        int[] betterGrades = new int [GRADES.length]; // Create an array to store the number of better/equal grades the student has\n",
    "\n",
    "        Scanner scanner = new Scanner(System.in); // Create a Scanner object for user input\n",
    "\n",
    "        for (int i = 0; i < GRADES.length; i++) {\n",
    "            System.out.println(\"How many \" + GRADES[i] + \" grades have you? \");\n",
    "            studentsGrades[i] = scanner.nextInt(); // Store the number of each grade the student has\n",
    "            for (int j = i; j < GRADES.length; j++) { // For each grade inputted, add that number to all the better or equal grades\n",
    "                betterGrades[j] += studentsGrades[i];\n",
    "            }\n",
    "        }\n",
    "\n",
    "        scanner.close(); // Prevent resource leaks\n",
    "        return finalModuleGrade(studentsGrades, betterGrades);\n",
    "    }\n",
    "\n",
    "    public static String finalModuleGrade(int[] studentsGrades, int[] betterGrades) {\n",
    "\n",
    "        String finalGrade = \"Q\"; // Initalise the final grade as Q (will be returned if no other condition is met)\n",
    "\n",
    "        // Determine final grade based on the counts of each grade\n",
    "        // The following conditios check for the final grade based on the exact number of A+ and A grades, hence the use of studentsGrades array\n",
    "        if (studentsGrades[0] == 6 && studentsGrades[1] == 2) { // A*, must have 6 A+ and 2 As\n",
    "            finalGrade = \"A*\";\n",
    "        }\n",
    "        else if (studentsGrades[0] == 5 && studentsGrades[1] == 3) { // A++, must have 5 A+ and 3 As\n",
    "            finalGrade = \"A++\";\n",
    "        }\n",
    "        else if (studentsGrades[0] == 4 && studentsGrades[1] == 4) { // A+, must have 4 A+ and 4 As\n",
    "            finalGrade = \"A+\";\n",
    "        }\n",
    "        // The following conditions check for the final grade based on the number of better or equal grades, hence the use of betterGrades array\n",
    "        else if (betterGrades[1] >= 6 && betterGrades[2] == 8) { // A, must have 6 As or better and 8 Bs or better\n",
    "            finalGrade = \"A\";\n",
    "        }\n",
    "        else if (betterGrades[2] >= 6 && betterGrades[3] == 8) { // B, must have 6 Bs or better and 8 Cs or better\n",
    "            finalGrade = \"B\";\n",
    "        }\n",
    "        else if (betterGrades[3] >= 6 && betterGrades[4] == 8) { // C, must have 6 Cs or better and 8 Ds or better\n",
    "            finalGrade = \"C\";\n",
    "        }\n",
    "        else if (betterGrades[4] >= 6 && betterGrades[5] == 8) { // D, must have 6 Ds or better and 8 Fs or better\n",
    "            finalGrade = \"D\";\n",
    "        }\n",
    "        else if (betterGrades[5] >= 6 && betterGrades[6] == 8) { // F, must have 6 Ds or better and 8 Gs or better\n",
    "            finalGrade = \"F\";\n",
    "        }\n",
    "        else if (betterGrades[6] == 8) { // G, must have 8 Gs\n",
    "            finalGrade = \"G\";\n",
    "        }\n",
    "        \n",
    "        return finalGrade; // Return the final grade\n",
    "    }\n",
    "}"
   ]
  },
  {
   "cell_type": "markdown",
   "metadata": {
    "jp-MarkdownHeadingCollapsed": true
   },
   "source": [
    "## Testing the complete program\n",
    "Run the following test calls for each test in the test plan to run the complete program."
   ]
  },
  {
   "cell_type": "markdown",
   "metadata": {},
   "source": [
    "### Test Plan: Test 1\n",
    "\n",
    "If the following input is given by the user when asked in turn:\n",
    "```\n",
    "6\n",
    "2\n",
    "0\n",
    "0\n",
    "0\n",
    "0\n",
    "0\n",
    "\n",
    "...\n",
    "```\n",
    "The program should output exactly (not including the input):\n",
    "```java\n",
    "\"Your portfolio earned a A* grade overall.\"\n",
    "```"
   ]
  },
  {
   "cell_type": "code",
   "execution_count": 19,
   "metadata": {},
   "outputs": [
    {
     "name": "stdout",
     "output_type": "stream",
     "text": [
      "How many A+ grades have you? \n"
     ]
    },
    {
     "name": "stdin",
     "output_type": "stream",
     "text": [
      " 6\n"
     ]
    },
    {
     "name": "stdout",
     "output_type": "stream",
     "text": [
      "How many A grades have you? \n"
     ]
    },
    {
     "name": "stdin",
     "output_type": "stream",
     "text": [
      " 2\n"
     ]
    },
    {
     "name": "stdout",
     "output_type": "stream",
     "text": [
      "How many B grades have you? \n"
     ]
    },
    {
     "name": "stdin",
     "output_type": "stream",
     "text": [
      " 0\n"
     ]
    },
    {
     "name": "stdout",
     "output_type": "stream",
     "text": [
      "How many C grades have you? \n"
     ]
    },
    {
     "name": "stdin",
     "output_type": "stream",
     "text": [
      " 0\n"
     ]
    },
    {
     "name": "stdout",
     "output_type": "stream",
     "text": [
      "How many D grades have you? \n"
     ]
    },
    {
     "name": "stdin",
     "output_type": "stream",
     "text": [
      " 0\n"
     ]
    },
    {
     "name": "stdout",
     "output_type": "stream",
     "text": [
      "How many F grades have you? \n"
     ]
    },
    {
     "name": "stdin",
     "output_type": "stream",
     "text": [
      " 0\n"
     ]
    },
    {
     "name": "stdout",
     "output_type": "stream",
     "text": [
      "How many G grades have you? \n"
     ]
    },
    {
     "name": "stdin",
     "output_type": "stream",
     "text": [
      " 0\n"
     ]
    },
    {
     "name": "stdout",
     "output_type": "stream",
     "text": [
      "Your portfolio earned a A* grade overall.\n"
     ]
    }
   ],
   "source": [
    "ModuleGradeCalculation.main(null);"
   ]
  },
  {
   "cell_type": "markdown",
   "metadata": {},
   "source": [
    "### Test Plan: Test 2\n",
    "\n",
    "If the following input is given by the user when asked in turn:\n",
    "```\n",
    "5\n",
    "3\n",
    "0\n",
    "0\n",
    "0\n",
    "0\n",
    "0\n",
    "...\n",
    "```\n",
    "The program should output exactly (not including the input):\n",
    "```java\n",
    "\"Your portfolio earned a A++ grade overall.\"\n",
    "```"
   ]
  },
  {
   "cell_type": "code",
   "execution_count": 20,
   "metadata": {},
   "outputs": [
    {
     "name": "stdout",
     "output_type": "stream",
     "text": [
      "How many A+ grades have you? \n"
     ]
    },
    {
     "name": "stdin",
     "output_type": "stream",
     "text": [
      " 5\n"
     ]
    },
    {
     "name": "stdout",
     "output_type": "stream",
     "text": [
      "How many A grades have you? \n"
     ]
    },
    {
     "name": "stdin",
     "output_type": "stream",
     "text": [
      " 3\n"
     ]
    },
    {
     "name": "stdout",
     "output_type": "stream",
     "text": [
      "How many B grades have you? \n"
     ]
    },
    {
     "name": "stdin",
     "output_type": "stream",
     "text": [
      " 0\n"
     ]
    },
    {
     "name": "stdout",
     "output_type": "stream",
     "text": [
      "How many C grades have you? \n"
     ]
    },
    {
     "name": "stdin",
     "output_type": "stream",
     "text": [
      " 0\n"
     ]
    },
    {
     "name": "stdout",
     "output_type": "stream",
     "text": [
      "How many D grades have you? \n"
     ]
    },
    {
     "name": "stdin",
     "output_type": "stream",
     "text": [
      " 0\n"
     ]
    },
    {
     "name": "stdout",
     "output_type": "stream",
     "text": [
      "How many F grades have you? \n"
     ]
    },
    {
     "name": "stdin",
     "output_type": "stream",
     "text": [
      " 0\n"
     ]
    },
    {
     "name": "stdout",
     "output_type": "stream",
     "text": [
      "How many G grades have you? \n"
     ]
    },
    {
     "name": "stdin",
     "output_type": "stream",
     "text": [
      " 0\n"
     ]
    },
    {
     "name": "stdout",
     "output_type": "stream",
     "text": [
      "Your portfolio earned a A++ grade overall.\n"
     ]
    }
   ],
   "source": [
    "ModuleGradeCalculation.main(null);"
   ]
  },
  {
   "cell_type": "markdown",
   "metadata": {},
   "source": [
    "### Test Plan: Test 3\n",
    "\n",
    "If the following input is given by the user when asked in turn:\n",
    "```\n",
    "4\n",
    "4\n",
    "0\n",
    "0\n",
    "0\n",
    "0\n",
    "0\n",
    "...\n",
    "```\n",
    "The program should output exactly (not including the input):\n",
    "```java\n",
    "\"Your portfolio earned a A+ grade overall.\"\n",
    "```"
   ]
  },
  {
   "cell_type": "code",
   "execution_count": null,
   "metadata": {},
   "outputs": [],
   "source": [
    "ModuleGradeCalculation.main(null);"
   ]
  },
  {
   "cell_type": "markdown",
   "metadata": {},
   "source": [
    "### Test Plan: Test 4\n",
    "\n",
    "If the following input is given by the user when asked in turn:\n",
    "```\n",
    "3\n",
    "3\n",
    "2\n",
    "0\n",
    "0\n",
    "0\n",
    "0\n",
    "...\n",
    "```\n",
    "The program should output exactly (not including the input):\n",
    "```java\n",
    "\"Your portfolio earned a A grade overall.\"\n",
    "```"
   ]
  },
  {
   "cell_type": "code",
   "execution_count": 21,
   "metadata": {},
   "outputs": [
    {
     "name": "stdout",
     "output_type": "stream",
     "text": [
      "How many A+ grades have you? \n"
     ]
    },
    {
     "name": "stdin",
     "output_type": "stream",
     "text": [
      " 3\n"
     ]
    },
    {
     "name": "stdout",
     "output_type": "stream",
     "text": [
      "How many A grades have you? \n"
     ]
    },
    {
     "name": "stdin",
     "output_type": "stream",
     "text": [
      " 3\n"
     ]
    },
    {
     "name": "stdout",
     "output_type": "stream",
     "text": [
      "How many B grades have you? \n"
     ]
    },
    {
     "name": "stdin",
     "output_type": "stream",
     "text": [
      " 2\n"
     ]
    },
    {
     "name": "stdout",
     "output_type": "stream",
     "text": [
      "How many C grades have you? \n"
     ]
    },
    {
     "name": "stdin",
     "output_type": "stream",
     "text": [
      " 0\n"
     ]
    },
    {
     "name": "stdout",
     "output_type": "stream",
     "text": [
      "How many D grades have you? \n"
     ]
    },
    {
     "name": "stdin",
     "output_type": "stream",
     "text": [
      " 0\n"
     ]
    },
    {
     "name": "stdout",
     "output_type": "stream",
     "text": [
      "How many F grades have you? \n"
     ]
    },
    {
     "name": "stdin",
     "output_type": "stream",
     "text": [
      " 0\n"
     ]
    },
    {
     "name": "stdout",
     "output_type": "stream",
     "text": [
      "How many G grades have you? \n"
     ]
    },
    {
     "name": "stdin",
     "output_type": "stream",
     "text": [
      " 0\n"
     ]
    },
    {
     "name": "stdout",
     "output_type": "stream",
     "text": [
      "Your portfolio earned a A grade overall.\n"
     ]
    }
   ],
   "source": [
    "ModuleGradeCalculation.main(null);"
   ]
  },
  {
   "cell_type": "markdown",
   "metadata": {},
   "source": [
    "### Test Plan: Test 5\n",
    "\n",
    "If the following input is given by the user when asked in turn:\n",
    "```\n",
    "1\n",
    "4\n",
    "1\n",
    "2\n",
    "0\n",
    "0\n",
    "0\n",
    "...\n",
    "```\n",
    "The program should output exactly (not including the input):\n",
    "```java\n",
    "\"Your portfolio earned a B grade overall.\"\n",
    "```"
   ]
  },
  {
   "cell_type": "code",
   "execution_count": 22,
   "metadata": {},
   "outputs": [
    {
     "name": "stdout",
     "output_type": "stream",
     "text": [
      "How many A+ grades have you? \n"
     ]
    },
    {
     "name": "stdin",
     "output_type": "stream",
     "text": [
      " 1\n"
     ]
    },
    {
     "name": "stdout",
     "output_type": "stream",
     "text": [
      "How many A grades have you? \n"
     ]
    },
    {
     "name": "stdin",
     "output_type": "stream",
     "text": [
      " 4\n"
     ]
    },
    {
     "name": "stdout",
     "output_type": "stream",
     "text": [
      "How many B grades have you? \n"
     ]
    },
    {
     "name": "stdin",
     "output_type": "stream",
     "text": [
      " 1\n"
     ]
    },
    {
     "name": "stdout",
     "output_type": "stream",
     "text": [
      "How many C grades have you? \n"
     ]
    },
    {
     "name": "stdin",
     "output_type": "stream",
     "text": [
      " 2\n"
     ]
    },
    {
     "name": "stdout",
     "output_type": "stream",
     "text": [
      "How many D grades have you? \n"
     ]
    },
    {
     "name": "stdin",
     "output_type": "stream",
     "text": [
      " 0\n"
     ]
    },
    {
     "name": "stdout",
     "output_type": "stream",
     "text": [
      "How many F grades have you? \n"
     ]
    },
    {
     "name": "stdin",
     "output_type": "stream",
     "text": [
      " 0\n"
     ]
    },
    {
     "name": "stdout",
     "output_type": "stream",
     "text": [
      "How many G grades have you? \n"
     ]
    },
    {
     "name": "stdin",
     "output_type": "stream",
     "text": [
      " 0\n"
     ]
    },
    {
     "name": "stdout",
     "output_type": "stream",
     "text": [
      "Your portfolio earned a B grade overall.\n"
     ]
    }
   ],
   "source": [
    "ModuleGradeCalculation.main(null);"
   ]
  },
  {
   "cell_type": "markdown",
   "metadata": {},
   "source": [
    "### Test Plan: Test 6\n",
    "\n",
    "If the following input is given by the user when asked in turn:\n",
    "```\n",
    "6\n",
    "0\n",
    "1\n",
    "0\n",
    "1\n",
    "0\n",
    "0\n",
    "...\n",
    "```\n",
    "The program should output exactly (not including the input):\n",
    "```java\n",
    "\"Your portfolio earned a C grade overall.\"\n",
    "```"
   ]
  },
  {
   "cell_type": "code",
   "execution_count": 23,
   "metadata": {},
   "outputs": [
    {
     "name": "stdout",
     "output_type": "stream",
     "text": [
      "How many A+ grades have you? \n"
     ]
    },
    {
     "name": "stdin",
     "output_type": "stream",
     "text": [
      " 6\n"
     ]
    },
    {
     "name": "stdout",
     "output_type": "stream",
     "text": [
      "How many A grades have you? \n"
     ]
    },
    {
     "name": "stdin",
     "output_type": "stream",
     "text": [
      " 0\n"
     ]
    },
    {
     "name": "stdout",
     "output_type": "stream",
     "text": [
      "How many B grades have you? \n"
     ]
    },
    {
     "name": "stdin",
     "output_type": "stream",
     "text": [
      " 1\n"
     ]
    },
    {
     "name": "stdout",
     "output_type": "stream",
     "text": [
      "How many C grades have you? \n"
     ]
    },
    {
     "name": "stdin",
     "output_type": "stream",
     "text": [
      " 0\n"
     ]
    },
    {
     "name": "stdout",
     "output_type": "stream",
     "text": [
      "How many D grades have you? \n"
     ]
    },
    {
     "name": "stdin",
     "output_type": "stream",
     "text": [
      " 1\n"
     ]
    },
    {
     "name": "stdout",
     "output_type": "stream",
     "text": [
      "How many F grades have you? \n"
     ]
    },
    {
     "name": "stdin",
     "output_type": "stream",
     "text": [
      " 0\n"
     ]
    },
    {
     "name": "stdout",
     "output_type": "stream",
     "text": [
      "How many G grades have you? \n"
     ]
    },
    {
     "name": "stdin",
     "output_type": "stream",
     "text": [
      " 0\n"
     ]
    },
    {
     "name": "stdout",
     "output_type": "stream",
     "text": [
      "Your portfolio earned a C grade overall.\n"
     ]
    }
   ],
   "source": [
    "ModuleGradeCalculation.main(null);"
   ]
  },
  {
   "cell_type": "markdown",
   "metadata": {},
   "source": [
    "### Test Plan: Test 7\n",
    "\n",
    "If the following input is given by the user when asked in turn:\n",
    "```\n",
    "0\n",
    "1\n",
    "0\n",
    "3\n",
    "2\n",
    "2\n",
    "0\n",
    "...\n",
    "```\n",
    "The program should output exactly (not including the input):\n",
    "```java\n",
    "\"Your portfolio earned a D grade overall.\"\n",
    "```"
   ]
  },
  {
   "cell_type": "code",
   "execution_count": 24,
   "metadata": {},
   "outputs": [
    {
     "name": "stdout",
     "output_type": "stream",
     "text": [
      "How many A+ grades have you? \n"
     ]
    },
    {
     "name": "stdin",
     "output_type": "stream",
     "text": [
      " 0\n"
     ]
    },
    {
     "name": "stdout",
     "output_type": "stream",
     "text": [
      "How many A grades have you? \n"
     ]
    },
    {
     "name": "stdin",
     "output_type": "stream",
     "text": [
      " 1\n"
     ]
    },
    {
     "name": "stdout",
     "output_type": "stream",
     "text": [
      "How many B grades have you? \n"
     ]
    },
    {
     "name": "stdin",
     "output_type": "stream",
     "text": [
      " 0\n"
     ]
    },
    {
     "name": "stdout",
     "output_type": "stream",
     "text": [
      "How many C grades have you? \n"
     ]
    },
    {
     "name": "stdin",
     "output_type": "stream",
     "text": [
      " 3\n"
     ]
    },
    {
     "name": "stdout",
     "output_type": "stream",
     "text": [
      "How many D grades have you? \n"
     ]
    },
    {
     "name": "stdin",
     "output_type": "stream",
     "text": [
      " 2\n"
     ]
    },
    {
     "name": "stdout",
     "output_type": "stream",
     "text": [
      "How many F grades have you? \n"
     ]
    },
    {
     "name": "stdin",
     "output_type": "stream",
     "text": [
      " 2\n"
     ]
    },
    {
     "name": "stdout",
     "output_type": "stream",
     "text": [
      "How many G grades have you? \n"
     ]
    },
    {
     "name": "stdin",
     "output_type": "stream",
     "text": [
      " 0\n"
     ]
    },
    {
     "name": "stdout",
     "output_type": "stream",
     "text": [
      "Your portfolio earned a D grade overall.\n"
     ]
    }
   ],
   "source": [
    "ModuleGradeCalculation.main(null);"
   ]
  },
  {
   "cell_type": "markdown",
   "metadata": {},
   "source": [
    "### Test Plan: Test 8\n",
    "\n",
    "If the following input is given by the user when asked in turn:\n",
    "```\n",
    "1\n",
    "1\n",
    "1\n",
    "1\n",
    "1\n",
    "1\n",
    "2\n",
    "...\n",
    "```\n",
    "The program should output exactly (not including the input):\n",
    "```java\n",
    "\"Your portfolio earned a F grade overall.\"\n",
    "```"
   ]
  },
  {
   "cell_type": "code",
   "execution_count": 25,
   "metadata": {},
   "outputs": [
    {
     "name": "stdout",
     "output_type": "stream",
     "text": [
      "How many A+ grades have you? \n"
     ]
    },
    {
     "name": "stdin",
     "output_type": "stream",
     "text": [
      " 1\n"
     ]
    },
    {
     "name": "stdout",
     "output_type": "stream",
     "text": [
      "How many A grades have you? \n"
     ]
    },
    {
     "name": "stdin",
     "output_type": "stream",
     "text": [
      " 1\n"
     ]
    },
    {
     "name": "stdout",
     "output_type": "stream",
     "text": [
      "How many B grades have you? \n"
     ]
    },
    {
     "name": "stdin",
     "output_type": "stream",
     "text": [
      " 1\n"
     ]
    },
    {
     "name": "stdout",
     "output_type": "stream",
     "text": [
      "How many C grades have you? \n"
     ]
    },
    {
     "name": "stdin",
     "output_type": "stream",
     "text": [
      " 1\n"
     ]
    },
    {
     "name": "stdout",
     "output_type": "stream",
     "text": [
      "How many D grades have you? \n"
     ]
    },
    {
     "name": "stdin",
     "output_type": "stream",
     "text": [
      " 1\n"
     ]
    },
    {
     "name": "stdout",
     "output_type": "stream",
     "text": [
      "How many F grades have you? \n"
     ]
    },
    {
     "name": "stdin",
     "output_type": "stream",
     "text": [
      " 1\n"
     ]
    },
    {
     "name": "stdout",
     "output_type": "stream",
     "text": [
      "How many G grades have you? \n"
     ]
    },
    {
     "name": "stdin",
     "output_type": "stream",
     "text": [
      " 2\n"
     ]
    },
    {
     "name": "stdout",
     "output_type": "stream",
     "text": [
      "Your portfolio earned a F grade overall.\n"
     ]
    }
   ],
   "source": [
    "ModuleGradeCalculation.main(null);"
   ]
  },
  {
   "cell_type": "markdown",
   "metadata": {},
   "source": [
    "### Test Plan: Test 8\n",
    "\n",
    "If the following input is given by the user when asked in turn:\n",
    "```\n",
    "0\n",
    "1\n",
    "1\n",
    "1\n",
    "1\n",
    "1\n",
    "3\n",
    "...\n",
    "```\n",
    "The program should output exactly (not including the input):\n",
    "```java\n",
    "\"Your portfolio earned a G grade overall.\"\n",
    "```"
   ]
  },
  {
   "cell_type": "code",
   "execution_count": 26,
   "metadata": {},
   "outputs": [
    {
     "name": "stdout",
     "output_type": "stream",
     "text": [
      "How many A+ grades have you? \n"
     ]
    },
    {
     "name": "stdin",
     "output_type": "stream",
     "text": [
      " 0\n"
     ]
    },
    {
     "name": "stdout",
     "output_type": "stream",
     "text": [
      "How many A grades have you? \n"
     ]
    },
    {
     "name": "stdin",
     "output_type": "stream",
     "text": [
      " 1\n"
     ]
    },
    {
     "name": "stdout",
     "output_type": "stream",
     "text": [
      "How many B grades have you? \n"
     ]
    },
    {
     "name": "stdin",
     "output_type": "stream",
     "text": [
      " 1\n"
     ]
    },
    {
     "name": "stdout",
     "output_type": "stream",
     "text": [
      "How many C grades have you? \n"
     ]
    },
    {
     "name": "stdin",
     "output_type": "stream",
     "text": [
      " 1\n"
     ]
    },
    {
     "name": "stdout",
     "output_type": "stream",
     "text": [
      "How many D grades have you? \n"
     ]
    },
    {
     "name": "stdin",
     "output_type": "stream",
     "text": [
      " 1\n"
     ]
    },
    {
     "name": "stdout",
     "output_type": "stream",
     "text": [
      "How many F grades have you? \n"
     ]
    },
    {
     "name": "stdin",
     "output_type": "stream",
     "text": [
      " 1\n"
     ]
    },
    {
     "name": "stdout",
     "output_type": "stream",
     "text": [
      "How many G grades have you? \n"
     ]
    },
    {
     "name": "stdin",
     "output_type": "stream",
     "text": [
      " 3\n"
     ]
    },
    {
     "name": "stdout",
     "output_type": "stream",
     "text": [
      "Your portfolio earned a G grade overall.\n"
     ]
    }
   ],
   "source": [
    "ModuleGradeCalculation.main(null);"
   ]
  },
  {
   "cell_type": "markdown",
   "metadata": {},
   "source": [
    "### Test Plan: Test 8\n",
    "\n",
    "If the following input is given by the user when asked in turn:\n",
    "```\n",
    "7\n",
    "0\n",
    "0\n",
    "0\n",
    "0\n",
    "0\n",
    "0\n",
    "...\n",
    "```\n",
    "The program should output exactly (not including the input):\n",
    "```java\n",
    "\"Your portfolio earned a Q grade overall.\"\n",
    "```"
   ]
  },
  {
   "cell_type": "code",
   "execution_count": 27,
   "metadata": {},
   "outputs": [
    {
     "name": "stdout",
     "output_type": "stream",
     "text": [
      "How many A+ grades have you? \n"
     ]
    },
    {
     "name": "stdin",
     "output_type": "stream",
     "text": [
      " 7\n"
     ]
    },
    {
     "name": "stdout",
     "output_type": "stream",
     "text": [
      "How many A grades have you? \n"
     ]
    },
    {
     "name": "stdin",
     "output_type": "stream",
     "text": [
      " 0\n"
     ]
    },
    {
     "name": "stdout",
     "output_type": "stream",
     "text": [
      "How many B grades have you? \n"
     ]
    },
    {
     "name": "stdin",
     "output_type": "stream",
     "text": [
      " 0\n"
     ]
    },
    {
     "name": "stdout",
     "output_type": "stream",
     "text": [
      "How many C grades have you? \n"
     ]
    },
    {
     "name": "stdin",
     "output_type": "stream",
     "text": [
      " 0\n"
     ]
    },
    {
     "name": "stdout",
     "output_type": "stream",
     "text": [
      "How many D grades have you? \n"
     ]
    },
    {
     "name": "stdin",
     "output_type": "stream",
     "text": [
      " 0\n"
     ]
    },
    {
     "name": "stdout",
     "output_type": "stream",
     "text": [
      "How many F grades have you? \n"
     ]
    },
    {
     "name": "stdin",
     "output_type": "stream",
     "text": [
      " 0\n"
     ]
    },
    {
     "name": "stdout",
     "output_type": "stream",
     "text": [
      "How many G grades have you? \n"
     ]
    },
    {
     "name": "stdin",
     "output_type": "stream",
     "text": [
      " 0\n"
     ]
    },
    {
     "name": "stdout",
     "output_type": "stream",
     "text": [
      "Your portfolio earned a Q grade overall.\n"
     ]
    }
   ],
   "source": [
    "ModuleGradeCalculation.main(null);"
   ]
  },
  {
   "cell_type": "markdown",
   "metadata": {},
   "source": [
    "**END OF LITERATE DOCUMENT**"
   ]
  }
 ],
 "metadata": {
  "kernelspec": {
   "display_name": "Java",
   "language": "java",
   "name": "java"
  },
  "language_info": {
   "codemirror_mode": "java",
   "file_extension": ".jshell",
   "mimetype": "text/x-java-source",
   "name": "Java",
   "pygments_lexer": "java",
   "version": "11.0.8+10-LTS"
  }
 },
 "nbformat": 4,
 "nbformat_minor": 4
}
