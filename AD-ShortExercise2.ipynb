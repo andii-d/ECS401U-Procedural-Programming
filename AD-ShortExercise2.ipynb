{
 "cells": [
  {
   "cell_type": "markdown",
   "id": "5a183782-468f-4a94-97d9-721cd9fbdff8",
   "metadata": {},
   "source": [
    "# Short Assessed Exercise\n",
    "# Level  2\n",
    "## Andy Dishnica\n",
    "## 250334126\n",
    "## 24/09/25\n",
    "## Version 2"
   ]
  },
  {
   "cell_type": "markdown",
   "id": "e61487af-362c-4aa8-b5cd-65c4c3fa4c29",
   "metadata": {},
   "source": [
    "## Summary of the Question \n",
    "Write a fitness app as a program that works out your 'fitness' age to indicate whether you are fitter than your actual age or not. The user will enter scores out of 40 for two exercises, which then calculates:\n",
    "\n",
    "- An average exercise score\n",
    "- A 'PC' fitness age\n",
    "- The positive or negative difference between the actual age and PC fitness age"
   ]
  },
  {
   "cell_type": "markdown",
   "id": "1eddb7fe-d64c-4433-9af9-8e7f6349fe15",
   "metadata": {},
   "source": [
    "## Justification that the program passes this level\n",
    "This is based on tick boxes at start of the question description for this exercise.\n",
    "\n",
    "- I can explain how my program works\n",
    "- I wrote this program independently\n",
    "- My program runs and compiles in JHUB\n",
    "- My program uses input instrucions\n",
    "- My program uses assignment, variables and arithmetic expressions\n",
    "- My code is literately demonstrated; commented in a simple manner including my name, student number and a date plus explanation of what the program's purpose is\n",
    "- My code defines all variables within methods excluding the use of global variables\n",
    "- My code uses final variables to store constants that shall not be modified \n",
    "- My program must be split into methods, with at least one or more taking arguments and returning a result\n",
    "- My program uses one final subroutine calling all other methods to display the results of the program's inputs"
   ]
  },
  {
   "cell_type": "markdown",
   "id": "5dd20b79-7e03-4615-8019-81fb3c925c91",
   "metadata": {},
   "source": [
    "# The literate program development"
   ]
  },
  {
   "cell_type": "markdown",
   "id": "d55d64fc-81ad-4f4b-abb4-a30e185bffe3",
   "metadata": {
    "jp-MarkdownHeadingCollapsed": true
   },
   "source": [
    "## actualAgeInput"
   ]
  },
  {
   "cell_type": "markdown",
   "id": "d83db968-d59d-4599-8f79-8586e39c0475",
   "metadata": {},
   "source": [
    "### What it does:\n",
    "Asks the user to input their actual age"
   ]
  },
  {
   "cell_type": "markdown",
   "id": "9d04216d-15d1-4f69-9354-6952c211b624",
   "metadata": {},
   "source": [
    "### Implementation:\n",
    "Uses a scanner variable to record the user's input, followed by printing a line asking the user to input their actual age.<br>\n",
    "<br>If a double/float number is inputted, the program will crash. To counter this, either implement the method as a double itself or catch the exception using error handling."
   ]
  },
  {
   "cell_type": "code",
   "execution_count": 4,
   "id": "a2bdf003-151c-4a96-988d-a17aa45558ca",
   "metadata": {},
   "outputs": [],
   "source": [
    "public static int actualAgeInput() {\n",
    "        Scanner scanner = new Scanner(System.in); // Create a Scanner object for user input recording their actual age\n",
    "        System.out.println(\"Enter your actual age: \"); // Ask the user to input their actual age\n",
    "        int actualAge = scanner.nextInt(); // Record said input as an integer\n",
    "        return actualAge;\n",
    "    }"
   ]
  },
  {
   "cell_type": "markdown",
   "id": "3dd5f60f-9169-4851-bc89-0f9c26c0ad35",
   "metadata": {},
   "source": [
    "### Testing"
   ]
  },
  {
   "cell_type": "code",
   "execution_count": 5,
   "id": "44079e77-711a-42b5-8211-22fb7355833b",
   "metadata": {},
   "outputs": [
    {
     "name": "stdout",
     "output_type": "stream",
     "text": [
      "Enter your actual age: \n"
     ]
    },
    {
     "name": "stdin",
     "output_type": "stream",
     "text": [
      " 20\n"
     ]
    },
    {
     "data": {
      "text/plain": [
       "20"
      ]
     },
     "execution_count": 5,
     "metadata": {},
     "output_type": "execute_result"
    }
   ],
   "source": [
    "actualAgeInput();"
   ]
  },
  {
   "cell_type": "markdown",
   "id": "601e955c-5c98-40f1-b76a-65ed2e07cbb3",
   "metadata": {
    "jp-MarkdownHeadingCollapsed": true
   },
   "source": [
    "## exerciseInput1"
   ]
  },
  {
   "cell_type": "markdown",
   "id": "d41ddfad-a6f7-41a8-9136-a23af9717022",
   "metadata": {},
   "source": [
    "### What it does:\n",
    "Asks the user to input their score for exercise 1"
   ]
  },
  {
   "cell_type": "markdown",
   "id": "b6d9f622-a727-40cb-a6f2-ee4968b23ddb",
   "metadata": {},
   "source": [
    "### Implementation:\n",
    "Uses a scanner variable to record the user's input which then checks whether it is within the range of 0 - 40, and if not the method is recursively called to perform the input with a valid input.<br>\n",
    "<br>If a double/float number is inputted, the program will crash. To counter this, either implement the method as a double itself or catch the exception using error handling."
   ]
  },
  {
   "cell_type": "code",
   "execution_count": 31,
   "id": "93053304-4faf-4089-938c-9ff76b0d16a2",
   "metadata": {},
   "outputs": [],
   "source": [
    "public static int exerciseInput1() {\n",
    "        Scanner scanner = new Scanner(System.in); // Create a Scanner object for user input recording their score for exercise 1\n",
    "        System.out.println(\"Enter your score for exercise 1 (out of 40): \"); // Ask the user to input their score for exercise 1\n",
    "        int exerciseScore1 = scanner.nextInt(); // Record said input as an integer\n",
    "        if (exerciseScore1 < 0 || exerciseScore1 > 40) { // Check if the input is valid (between 0 and 40) using an or condition (||)\n",
    "            System.out.println(\"Invalid input. Please enter a score between 0 and 40.\");\n",
    "            exerciseInput1(); // Recursively call the input method until a valid score is entered    \n",
    "        }\n",
    "        return exerciseScore1;\n",
    "    } "
   ]
  },
  {
   "cell_type": "markdown",
   "id": "8dac68d2-866a-4154-8592-66f44500d0e5",
   "metadata": {},
   "source": [
    "### Testing"
   ]
  },
  {
   "cell_type": "code",
   "execution_count": 32,
   "id": "ea14e0d3-6fb1-4de2-8dd0-83391acc34f9",
   "metadata": {},
   "outputs": [
    {
     "name": "stdout",
     "output_type": "stream",
     "text": [
      "Enter your score for exercise 1 (out of 40): \n"
     ]
    },
    {
     "name": "stdin",
     "output_type": "stream",
     "text": [
      " 3.5\n"
     ]
    },
    {
     "ename": "EvalException",
     "evalue": "null",
     "output_type": "error",
     "traceback": [
      "\u001b[1m\u001b[31m---------------------------------------------------------------------------\u001b[0m",
      "\u001b[1m\u001b[31mjava.util.InputMismatchException: null\u001b[0m",
      "\u001b[1m\u001b[31m\tat java.base/java.util.Scanner.throwFor(Scanner.java:939)\u001b[0m",
      "\u001b[1m\u001b[31m\tat java.base/java.util.Scanner.next(Scanner.java:1594)\u001b[0m",
      "\u001b[1m\u001b[31m\tat java.base/java.util.Scanner.nextInt(Scanner.java:2258)\u001b[0m",
      "\u001b[1m\u001b[31m\tat java.base/java.util.Scanner.nextInt(Scanner.java:2212)\u001b[0m",
      "\u001b[1m\u001b[31m\tat .exerciseInput1(#17:4)\u001b[0m",
      "\u001b[1m\u001b[31m\tat .(#40:1)\u001b[0m"
     ]
    }
   ],
   "source": [
    "exerciseInput1();"
   ]
  },
  {
   "cell_type": "markdown",
   "id": "a3df81cb-e86e-461e-b865-53337a6f8ab8",
   "metadata": {
    "jp-MarkdownHeadingCollapsed": true
   },
   "source": [
    "## exerciseInput2"
   ]
  },
  {
   "cell_type": "markdown",
   "id": "df77529f-2c2a-492a-9501-ea597872bd79",
   "metadata": {},
   "source": [
    "### What it does:\n",
    "Asks the user to input their score for exercise 2"
   ]
  },
  {
   "cell_type": "markdown",
   "id": "b28dd2ea-fed0-40e8-81ff-5ca20f98d066",
   "metadata": {},
   "source": [
    "### Implementation:\n",
    "Uses a scanner variable to record the user's input which then checks whether it is within the range of 0 - 40, and if not the method is recursively called to perform the input with a valid input. Before returning the value, the scanner is closed as this is the last method that records any inputs; effectively preventing any resource leaks."
   ]
  },
  {
   "cell_type": "code",
   "execution_count": 33,
   "id": "b1c6b8e9-727f-4645-af1c-6adb018f4dfd",
   "metadata": {},
   "outputs": [],
   "source": [
    "public static int exerciseInput2() {\n",
    "        Scanner scanner = new Scanner(System.in); // Create a Scanner object for user input recording their score for exercise 2\n",
    "        System.out.println(\"Enter your score for exercise 2 (out of 40): \"); // Ask the user to input their score for exercise 2\n",
    "        int exerciseScore2 = scanner.nextInt(); // Record said input as an integer\n",
    "        if (exerciseScore2 < 0 || exerciseScore2 > 40) { // Check if the input is valid (between 0 and 40) using an or condition (||)\n",
    "            System.out.println(\"Invalid input. Please enter a score between 0 and 40.\");\n",
    "            exerciseInput2(); // Recursively call the input method until a valid score is entered    \n",
    "        }\n",
    "        scanner.close(); // Close the scanner to prevent resource leaks (exerciseInput2 is the last method to use the scanner)\n",
    "        return exerciseScore2;\n",
    "    }"
   ]
  },
  {
   "cell_type": "markdown",
   "id": "9aca5009-50ea-41d8-bf89-7b5200d5a593",
   "metadata": {},
   "source": [
    "### Testing"
   ]
  },
  {
   "cell_type": "code",
   "execution_count": 34,
   "id": "1355dd0b-eacd-4b2e-aba8-a5fca81f7ff5",
   "metadata": {},
   "outputs": [
    {
     "name": "stdout",
     "output_type": "stream",
     "text": [
      "Enter your score for exercise 2 (out of 40): \n"
     ]
    },
    {
     "name": "stdin",
     "output_type": "stream",
     "text": [
      " 4.2\n"
     ]
    },
    {
     "ename": "EvalException",
     "evalue": "null",
     "output_type": "error",
     "traceback": [
      "\u001b[1m\u001b[31m---------------------------------------------------------------------------\u001b[0m",
      "\u001b[1m\u001b[31mjava.util.InputMismatchException: null\u001b[0m",
      "\u001b[1m\u001b[31m\tat java.base/java.util.Scanner.throwFor(Scanner.java:939)\u001b[0m",
      "\u001b[1m\u001b[31m\tat java.base/java.util.Scanner.next(Scanner.java:1594)\u001b[0m",
      "\u001b[1m\u001b[31m\tat java.base/java.util.Scanner.nextInt(Scanner.java:2258)\u001b[0m",
      "\u001b[1m\u001b[31m\tat java.base/java.util.Scanner.nextInt(Scanner.java:2212)\u001b[0m",
      "\u001b[1m\u001b[31m\tat .exerciseInput2(#19:4)\u001b[0m",
      "\u001b[1m\u001b[31m\tat .(#41:1)\u001b[0m"
     ]
    }
   ],
   "source": [
    "exerciseInput2();"
   ]
  },
  {
   "cell_type": "markdown",
   "id": "292e9f5b-18fb-46c1-99f9-af169e28d1b6",
   "metadata": {
    "jp-MarkdownHeadingCollapsed": true
   },
   "source": [
    "## exerciseAvgScore"
   ]
  },
  {
   "cell_type": "markdown",
   "id": "b9bec0a1-6254-404d-b227-b512799a0b9b",
   "metadata": {},
   "source": [
    "### What it does:\n",
    "Calculates the average score based off the two exercise scores beforehand"
   ]
  },
  {
   "cell_type": "markdown",
   "id": "eb41ecc0-e0a3-4ee8-868f-aa4b9689c02e",
   "metadata": {},
   "source": [
    "### Implementation:\n",
    "Adds the two exercise scores together and then divides them by two, which is stored in a double variable.\n",
    "<br>Said variable is then rounded down with Math.floor which that final value is returned.\n",
    "<br>Uses integer as the returned variable but calculates in double in order to accurately calculate and round down the average score."
   ]
  },
  {
   "cell_type": "code",
   "execution_count": 11,
   "id": "7f37dd5f-d836-4eaa-861f-ad8ab8740a2c",
   "metadata": {},
   "outputs": [],
   "source": [
    "public static int exerciseAvgScore(int exerciseScore1, int exersciseScore2) {\n",
    "        double avgExerciseScore = (exerciseScore1 + exersciseScore2) / 2; // Calculate the mean score from the two exercises above\n",
    "        int roundedAvgExerciseScore = (int) Math.floor(avgExerciseScore); // Round down the average fitness score to the nearest whole number\n",
    "        return roundedAvgExerciseScore;\n",
    "    }"
   ]
  },
  {
   "cell_type": "markdown",
   "id": "7e0bdfdd-e954-4783-a449-88708270e607",
   "metadata": {},
   "source": [
    "### Testing"
   ]
  },
  {
   "cell_type": "code",
   "execution_count": 14,
   "id": "e50ddc3b-50c6-4b24-a604-1fac732ef2b7",
   "metadata": {},
   "outputs": [
    {
     "data": {
      "text/plain": [
       "22"
      ]
     },
     "execution_count": 14,
     "metadata": {},
     "output_type": "execute_result"
    }
   ],
   "source": [
    "exerciseAvgScore(16, 29);"
   ]
  },
  {
   "cell_type": "markdown",
   "id": "f725d486-30f6-405c-92d5-64abae51f7fc",
   "metadata": {
    "jp-MarkdownHeadingCollapsed": true
   },
   "source": [
    "## PCFitAge"
   ]
  },
  {
   "cell_type": "markdown",
   "id": "5c85e2c3-6b0f-4e61-a9b4-b08eb7e67f18",
   "metadata": {},
   "source": [
    "### What it does\n",
    "Calculates the fitness age of the user"
   ]
  },
  {
   "cell_type": "markdown",
   "id": "8c365d10-6a95-43d6-8d4a-4c57af49246a",
   "metadata": {},
   "source": [
    "### Implementation\n",
    "Uses a final double variable called 'fitnessModifier' that acts as a program constant (value of 1.6)\n",
    "<br>The method then multiplies the average score calculated beforehand by this modifier then adds 10 to the score\n",
    "<br>Finally, the method rounds up this result to the nearest integer using Math.ceil and returns an integer."
   ]
  },
  {
   "cell_type": "code",
   "execution_count": 16,
   "id": "54ad6b8f-f318-459d-937f-a549b14c64ea",
   "metadata": {},
   "outputs": [],
   "source": [
    "public static int PCFitAge(int avgScore) {\n",
    "        final double fitnessModifier = 1.6; // Program constant for fitness age calculation \n",
    "        int fitnessAge = (int) Math.ceil((avgScore * fitnessModifier) + 10);  // Calculate the fitness age using the formula provided\n",
    "        return fitnessAge;  \n",
    "    }"
   ]
  },
  {
   "cell_type": "markdown",
   "id": "3b142962-7bcf-40ba-9e51-26984024074b",
   "metadata": {},
   "source": [
    "### Testing"
   ]
  },
  {
   "cell_type": "code",
   "execution_count": 18,
   "id": "b95a0e74-7f61-4c81-89cf-995b8a9385f2",
   "metadata": {},
   "outputs": [
    {
     "data": {
      "text/plain": [
       "30"
      ]
     },
     "execution_count": 18,
     "metadata": {},
     "output_type": "execute_result"
    }
   ],
   "source": [
    "PCFitAge(12)"
   ]
  },
  {
   "cell_type": "markdown",
   "id": "ff2af333-e71b-49c4-82b0-78614a01913c",
   "metadata": {
    "jp-MarkdownHeadingCollapsed": true
   },
   "source": [
    "## exerciseAgeDifference"
   ]
  },
  {
   "cell_type": "markdown",
   "id": "c05034e9-9c14-4b3e-ae9f-515efe4831c3",
   "metadata": {},
   "source": [
    "### What it does\n",
    "Find the age difference between the actual and fitness age calculated"
   ]
  },
  {
   "cell_type": "markdown",
   "id": "19062fcc-6f5a-44c2-b19a-bb3bf8b4ead7",
   "metadata": {},
   "source": [
    "### Implementation\n",
    "Subtract the fitness age from the actual age and store it in an integer variable "
   ]
  },
  {
   "cell_type": "code",
   "execution_count": 19,
   "id": "5e9b8a2e-9047-417f-9e75-c68d1129eca4",
   "metadata": {},
   "outputs": [],
   "source": [
    "public static int exerciseAgeDifference(int actualAge, int fitnessAge) {\n",
    "        int ageDifference = actualAge - fitnessAge; // Calculate the age difference between the fitness and actual age\n",
    "        return ageDifference;\n",
    "    }"
   ]
  },
  {
   "cell_type": "markdown",
   "id": "86d8b229-783e-4cf4-9bcf-522bbf508011",
   "metadata": {},
   "source": [
    "### Testing"
   ]
  },
  {
   "cell_type": "code",
   "execution_count": 21,
   "id": "6b3aff2d-3558-4643-90e5-b27f4f219397",
   "metadata": {},
   "outputs": [
    {
     "data": {
      "text/plain": [
       "-6"
      ]
     },
     "execution_count": 21,
     "metadata": {},
     "output_type": "execute_result"
    }
   ],
   "source": [
    "exerciseAgeDifference(20, 26)"
   ]
  },
  {
   "cell_type": "markdown",
   "id": "961353b9-a7ae-44ec-8e19-c2e45d28cfaa",
   "metadata": {
    "jp-MarkdownHeadingCollapsed": true
   },
   "source": [
    "## displayFitnessResults"
   ]
  },
  {
   "cell_type": "markdown",
   "id": "e8473f26-c40b-41bb-934d-992dd00e0525",
   "metadata": {},
   "source": [
    "### What it does\n",
    "Store the age, calculated average & fitness scores, and the age difference in individual variables to be displayed"
   ]
  },
  {
   "cell_type": "markdown",
   "id": "ea4aeed1-b989-48c1-a68c-0702c2e1bcfa",
   "metadata": {},
   "source": [
    "### Implementation\n",
    "Store the:\n",
    "- actual age\n",
    "- exercise score 1 \n",
    "- exercise score 2\n",
    "- average exercise score\n",
    "- fitness age\n",
    "- age difference\n",
    "  \n",
    "<br>each in their own variables using respective data types which then prints out the average score, fitness age and age difference telling the user how many years away they are, of their actual age, based off their fitness age."
   ]
  },
  {
   "cell_type": "code",
   "execution_count": 35,
   "id": "9fa61897-c5ca-40f9-9070-6a7a54b0bf0e",
   "metadata": {},
   "outputs": [],
   "source": [
    "public static void displayFitnessResults() {\n",
    "        // Call all the above methods and store their return values in variables\n",
    "        int actualAge = actualAgeInput();\n",
    "        int exerciseScore1 = exerciseInput1();\n",
    "        int exerciseScore2 = exerciseInput2();\n",
    "        int avgScore = exerciseAvgScore(exerciseScore1, exerciseScore2);\n",
    "        int fitnessAge = PCFitAge(avgScore);\n",
    "        int ageDifference = exerciseAgeDifference(actualAge, fitnessAge);\n",
    "        System.out.println(\"Your average score is \" + avgScore + \".\"); // Display the average score to the user\n",
    "        System.out.println(\"Your PC fitness age is \" + fitnessAge + \".\"); // Display the fitness age to the user\n",
    "        System.out.println(\"You are \" + ageDifference + \" years away than your actual age.\"); // Display the age difference to the user\n",
    "    }"
   ]
  },
  {
   "cell_type": "markdown",
   "id": "df111b44-97e2-4ce1-9ec3-e20af09d341c",
   "metadata": {},
   "source": [
    "### Testing"
   ]
  },
  {
   "cell_type": "code",
   "execution_count": 36,
   "id": "94935308-9d64-40c9-bfcd-b0285cbd64ed",
   "metadata": {},
   "outputs": [
    {
     "name": "stdout",
     "output_type": "stream",
     "text": [
      "Enter your actual age: \n"
     ]
    },
    {
     "name": "stdin",
     "output_type": "stream",
     "text": [
      " 20\n"
     ]
    },
    {
     "name": "stdout",
     "output_type": "stream",
     "text": [
      "Enter your score for exercise 1 (out of 40): \n"
     ]
    },
    {
     "name": "stdin",
     "output_type": "stream",
     "text": [
      " 11\n"
     ]
    },
    {
     "name": "stdout",
     "output_type": "stream",
     "text": [
      "Enter your score for exercise 2 (out of 40): \n"
     ]
    },
    {
     "name": "stdin",
     "output_type": "stream",
     "text": [
      " 9\n"
     ]
    },
    {
     "name": "stdout",
     "output_type": "stream",
     "text": [
      "Your average score is 10.\n",
      "Your PC fitness age is 26.\n",
      "You are -6 years away than your actual age.\n"
     ]
    }
   ],
   "source": [
    "displayFitnessResults();"
   ]
  },
  {
   "cell_type": "markdown",
   "id": "3805a4be-b81e-4c09-94f9-2e3b9dcb7c9b",
   "metadata": {
    "jp-MarkdownHeadingCollapsed": true
   },
   "source": [
    "# The complete program"
   ]
  },
  {
   "cell_type": "code",
   "execution_count": 39,
   "id": "ddeda9f1-3995-46fd-a6e3-146255842c94",
   "metadata": {},
   "outputs": [],
   "source": [
    "/* ***************************************\n",
    "  @author    Andy Dishnica\n",
    "  @SID       250334126\n",
    "  @date      25 September 2025\n",
    "  @version   1\n",
    "\n",
    "    This program calculates a user's fitness age, average score and fitness age difference based on their actual age and scores from two exercises.\n",
    "\n",
    "   ****************************************/\n",
    "\n",
    "import java.util.Scanner; // To allow for user input\n",
    "\n",
    "class FitnessApp {\n",
    "    public static void main(String[] args) {\n",
    "        displayFitnessResults(); // Call the method to display the fitness results\n",
    "    }\n",
    "\n",
    "    public static int actualAgeInput() {\n",
    "        Scanner scanner = new Scanner(System.in); // Create a Scanner object for user input recording their actual age\n",
    "        System.out.println(\"Enter your actual age: \"); // Ask the user to input their actual age\n",
    "        int actualAge = scanner.nextInt(); // Record said input as an integer\n",
    "        return actualAge;\n",
    "    }\n",
    "\n",
    "    public static int exerciseInput1() {\n",
    "        Scanner scanner = new Scanner(System.in); // Create a Scanner object for user input recording their score for exercise 1\n",
    "        System.out.println(\"Enter your score for exercise 1 (out of 40): \"); // Ask the user to input their score for exercise 1\n",
    "        int exerciseScore1 = scanner.nextInt(); // Record said input as an integer\n",
    "        if (exerciseScore1 < 0 || exerciseScore1 > 40) { // Check if the input is valid (between 0 and 40) using an or condition (||)\n",
    "            System.out.println(\"Invalid input. Please enter a score between 0 and 40.\");\n",
    "            exerciseInput1(); // Recursively call the input method until a valid score is entered    \n",
    "        }\n",
    "        return exerciseScore1;\n",
    "    }  \n",
    "\n",
    "    public static int exerciseInput2() {\n",
    "        Scanner scanner = new Scanner(System.in); // Create a Scanner object for user input recording their score for exercise 2\n",
    "        System.out.println(\"Enter your score for exercise 2 (out of 40): \"); // Ask the user to input their score for exercise 2\n",
    "        int exerciseScore2 = scanner.nextInt(); // Record said input as an integer\n",
    "        if (exerciseScore2 < 0 || exerciseScore2 > 40) { // Check if the input is valid (between 0 and 40) using an or condition (||)\n",
    "            System.out.println(\"Invalid input. Please enter a score between 0 and 40.\");\n",
    "            exerciseInput2(); // Recursively call the input method until a valid score is entered    \n",
    "        }\n",
    "        scanner.close(); // Close the scanner to prevent resource leaks (exerciseInput2 is the last method to use the scanner)\n",
    "        return exerciseScore2;\n",
    "    }\n",
    "\n",
    "    public static int exerciseAvgScore(int exerciseScore1, int exersciseScore2) {\n",
    "        double avgExerciseScore = (exerciseScore1 + exersciseScore2) / 2; // Calculate the mean score from the two exercises above\n",
    "        int roundedAvgExerciseScore = (int) Math.floor(avgExerciseScore); // Round down the average fitness score to the nearest whole number\n",
    "        return roundedAvgExerciseScore;\n",
    "    }\n",
    "\n",
    "    public static int PCFitAge(int avgScore) {\n",
    "        final double fitnessModifier = 1.6; // Program constant for fitness age calculation\n",
    "        int fitnessAge = (int) Math.ceil((avgScore * fitnessModifier) + 10);  // Calculate the fitness age using the formula provided\n",
    "        return fitnessAge;  \n",
    "    }\n",
    "\n",
    "    public static int exerciseAgeDifference(int actualAge, int fitnessAge) {\n",
    "        int ageDifference = actualAge - fitnessAge; // Calculate the age difference between the fitness and actual age\n",
    "        return ageDifference;\n",
    "    }\n",
    "\n",
    "    public static void displayFitnessResults() {\n",
    "        // Call all the above methods and store their return values in variables\n",
    "        int actualAge = actualAgeInput();\n",
    "        int exerciseScore1 = exerciseInput1();\n",
    "        int exerciseScore2 = exerciseInput2();\n",
    "        int avgScore = exerciseAvgScore(exerciseScore1, exerciseScore2);\n",
    "        int fitnessAge = PCFitAge(avgScore);\n",
    "        int ageDifference = exerciseAgeDifference(actualAge, fitnessAge);\n",
    "        System.out.println(\"Your average score is \" + avgScore + \".\"); // Display the average score to the user\n",
    "        System.out.println(\"Your PC fitness age is \" + fitnessAge + \".\"); // Display the fitness age to the user\n",
    "        System.out.println(\"You are \" + ageDifference + \" years away than your actual age.\"); // Display the age difference to the user\n",
    "    }\n",
    "}"
   ]
  },
  {
   "cell_type": "markdown",
   "id": "cbf69eac-fa74-4a88-ba67-c146ab683b34",
   "metadata": {},
   "source": [
    "### Testing the complete program"
   ]
  },
  {
   "cell_type": "code",
   "execution_count": 38,
   "id": "7d5f6c83-f031-4ce2-a23d-acf2e83e0714",
   "metadata": {},
   "outputs": [
    {
     "name": "stdout",
     "output_type": "stream",
     "text": [
      "Enter your actual age: \n"
     ]
    },
    {
     "name": "stdin",
     "output_type": "stream",
     "text": [
      " 20\n"
     ]
    },
    {
     "name": "stdout",
     "output_type": "stream",
     "text": [
      "Enter your score for exercise 1 (out of 40): \n"
     ]
    },
    {
     "name": "stdin",
     "output_type": "stream",
     "text": [
      " 11\n"
     ]
    },
    {
     "name": "stdout",
     "output_type": "stream",
     "text": [
      "Enter your score for exercise 2 (out of 40): \n"
     ]
    },
    {
     "name": "stdin",
     "output_type": "stream",
     "text": [
      " 9\n"
     ]
    },
    {
     "name": "stdout",
     "output_type": "stream",
     "text": [
      "Your average score is 10.\n",
      "Your PC fitness age is 26.\n",
      "You are -6 years away than your actual age.\n"
     ]
    }
   ],
   "source": [
    "FitnessApp.main(null);"
   ]
  },
  {
   "cell_type": "markdown",
   "id": "29adfbf0-3293-45a8-b43f-3d4d2fa6721e",
   "metadata": {},
   "source": [
    "# **END OF LITERATE DOCUMENT**"
   ]
  }
 ],
 "metadata": {
  "kernelspec": {
   "display_name": "Java",
   "language": "java",
   "name": "java"
  },
  "language_info": {
   "codemirror_mode": "java",
   "file_extension": ".jshell",
   "mimetype": "text/x-java-source",
   "name": "Java",
   "pygments_lexer": "java",
   "version": "11.0.8+10-LTS"
  }
 },
 "nbformat": 4,
 "nbformat_minor": 5
}
