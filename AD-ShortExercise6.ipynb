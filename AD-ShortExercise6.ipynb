{
 "cells": [
  {
   "cell_type": "markdown",
   "metadata": {
    "tags": []
   },
   "source": [
    "# Short Assessed Exercise\n",
    "# Level  6\n",
    "## Andy Dishnica\n",
    "## 250334126\n",
    "## 04/10/25\n",
    "## Version 1"
   ]
  },
  {
   "cell_type": "markdown",
   "metadata": {},
   "source": [
    "## Summary of the Question \n",
    "\n",
    "Write a program that is to be used to add up the score of a player’s hand in a card\n",
    "game."
   ]
  },
  {
   "cell_type": "markdown",
   "metadata": {},
   "source": [
    "## Justification that the program passes this level\n",
    "\n",
    ">This is based on tick boxes at start of the question description for this exercise.\n",
    "- I can EXPLAIN HOW MY PROGRAM WORKS\n",
    "- I wrote this program myself\n",
    "- My code uses while loops\n",
    "- My code is decomposed into methods that take arguments and return results\n",
    "- My code uses indentation well so the the structure of the code is readable\n",
    "- My code has comments with at least one per method saying what it does\n",
    "- All variable names are indicative of their purpose\n",
    "\n",
    "## The literate program development"
   ]
  },
  {
   "cell_type": "markdown",
   "metadata": {
    "jp-MarkdownHeadingCollapsed": true
   },
   "source": [
    "### cardGameMenu\n",
    "\n",
    "#### What it does\n",
    "Tells the user how many points the player has has\n",
    "\n",
    "#### Implementation (how it works)\n",
    "Prints out the current amount of points the player has in total"
   ]
  },
  {
   "cell_type": "code",
   "execution_count": 30,
   "metadata": {},
   "outputs": [],
   "source": [
    "public static void cardGameMenu(int currentPoints) { // Prints out the current amount of total points the player has\n",
    "        System.out.printf(\"Total score so far =  %d points.%n\", currentPoints);\n",
    "    }"
   ]
  },
  {
   "cell_type": "markdown",
   "metadata": {},
   "source": [
    "#### Testing"
   ]
  },
  {
   "cell_type": "code",
   "execution_count": 31,
   "metadata": {},
   "outputs": [
    {
     "name": "stdout",
     "output_type": "stream",
     "text": [
      "Total score so far =  5 points.\n"
     ]
    }
   ],
   "source": [
    "cardGameMenu(5)"
   ]
  },
  {
   "cell_type": "markdown",
   "metadata": {
    "jp-MarkdownHeadingCollapsed": true
   },
   "source": [
    "### cardGameInput\n",
    "\n",
    "#### What it does\n",
    "Returns the amount of points the player enters they have\n",
    "#### Implementation (how it works)\n",
    "Takes an input of the user and depending on what the input is i.e. \"pair\", \"triple\", will return a certain number of points based on the input.\n",
    "<br>Method will also tell the player if the input they entered is invalid, and will force them to try again- this will not return any points but continue the game."
   ]
  },
  {
   "cell_type": "code",
   "execution_count": 32,
   "metadata": {},
   "outputs": [],
   "source": [
    "public static int cardGameInput(String userInput) { // Returns the amount of points the player enters\n",
    "        // Implementation for card game input\n",
    "       \n",
    "        if (userInput.equals(\"pair\")) {\n",
    "            return 2;\n",
    "        } else if (userInput.equals(\"run\")) {\n",
    "            return 5;\n",
    "        } else if (userInput.equals(\"triple\")) {\n",
    "            return 8;\n",
    "        } else if (userInput.equals(\"fifteen\")) {\n",
    "            return 3;\n",
    "        } else if (userInput.equals(\"FINISH\")) {\n",
    "            return 0; // No points added when finishing\n",
    "        }\n",
    "        else {\n",
    "            System.out.println(\"That is an invalid option. Try again.\");\n",
    "        }\n",
    "        return 0; // Placeholder return value\n",
    "    }"
   ]
  },
  {
   "cell_type": "markdown",
   "metadata": {},
   "source": [
    "#### Testing"
   ]
  },
  {
   "cell_type": "code",
   "execution_count": 33,
   "metadata": {},
   "outputs": [
    {
     "data": {
      "text/plain": [
       "8"
      ]
     },
     "execution_count": 33,
     "metadata": {},
     "output_type": "execute_result"
    }
   ],
   "source": [
    "cardGameInput(\"triple\");"
   ]
  },
  {
   "cell_type": "markdown",
   "metadata": {
    "jp-MarkdownHeadingCollapsed": true
   },
   "source": [
    "## The complete program\n",
    "This version will only compile here. To run it copy it into a file called initials.java on your local computer and compile and run it there."
   ]
  },
  {
   "cell_type": "code",
   "execution_count": 2,
   "metadata": {},
   "outputs": [],
   "source": [
    "/* ***************************************\n",
    "  @author    Andy Dishnica\n",
    "  @SID       250334126\n",
    "  @date      04 October 2025\n",
    "  @version   1\n",
    "\n",
    "    This program implements a card game scoring system.\n",
    "   ****************************************/\n",
    "\n",
    "import java.util.*;\n",
    "\n",
    "class CardGameScoring {\n",
    "    public static void main(String[] args) {\n",
    "        // Implementation for card game menu\n",
    "        System.out.println(\"Hand scores\");\n",
    "        System.out.println(\"-----------------------------------------------\");\n",
    "        System.out.println(\"pair = 2 | run = 5 | triple = 8 | fifteen = 3 |\");\n",
    "        System.out.println(\"-----------------------------------------------\");\n",
    "\n",
    "        // Initial score is 0\n",
    "        int currentPoints = 0;\n",
    "        Scanner scanner = new Scanner(System.in); // Create a Scanner object for user input\n",
    "        String userInput = \"\";\n",
    "\n",
    "        while (!userInput.equals(\"FINISH\")) { // Keep the game running unil the user enters \"FINISH\"\n",
    "            System.out.println(\"What is in your hand (pair, run, triple, fifteen or FINISH)?  \");\n",
    "            userInput = scanner.nextLine(); // Get user input and convert to lowercase to standardise\n",
    "\n",
    "            currentPoints += cardGameInput(userInput); // Update the score based on user input\n",
    "            if (userInput.equals(\"FINISH\")) {\n",
    "                break; // Exit the loop if the user inputs \"FINISH\"\n",
    "            }\n",
    "            cardGameMenu(currentPoints); // Display the current score\n",
    "        }\n",
    "        \n",
    "        System.out.printf(\"Total score = %d points.%n\", currentPoints);\n",
    "        scanner.close(); // Prevent resource leaks\n",
    "        System.exit(0); // Exit the program\n",
    "\n",
    "    }\n",
    "\n",
    "    public static void cardGameMenu(int currentPoints) { // Prints out the current amount of total points the player has\n",
    "        System.out.printf(\"Total score so far =  %d points.%n\", currentPoints);\n",
    "    }\n",
    "\n",
    "    public static int cardGameInput(String userInput) { // Returns the amount of points the player enters\n",
    "        // Implementation for card game input\n",
    "       \n",
    "        if (userInput.equals(\"pair\")) {\n",
    "            return 2;\n",
    "        } else if (userInput.equals(\"run\")) {\n",
    "            return 5;\n",
    "        } else if (userInput.equals(\"triple\")) {\n",
    "            return 8;\n",
    "        } else if (userInput.equals(\"fifteen\")) {\n",
    "            return 3;\n",
    "        } else if (userInput.equals(\"FINISH\")) {\n",
    "            return 0; // No points added when finishing\n",
    "        }\n",
    "        else {\n",
    "            System.out.println(\"That is an invalid option. Try again.\");\n",
    "        }\n",
    "        return 0; // Placeholder return value\n",
    "    }\n",
    "}"
   ]
  },
  {
   "cell_type": "markdown",
   "metadata": {
    "jp-MarkdownHeadingCollapsed": true
   },
   "source": [
    "## Testing the complete program\n",
    "Run the following test calls for each test in the test plan to run the complete program."
   ]
  },
  {
   "cell_type": "markdown",
   "metadata": {},
   "source": [
    "### Test Plan: Test 1\n",
    "\n",
    "If the following input is given by the user when asked in turn:\n",
    "```\n",
    "FINISH\n",
    "...\n",
    "```\n",
    "The program should output exactly (not including the input):\n",
    "```java\n",
    "\"Hand scores\"\n",
    "\"-----------------------------------------------\"\n",
    "\"pair = 2 | run = 5 | triple = 8 | fifteen = 3 |\"\n",
    "\"-----------------------------------------------\"\n",
    "\"What is in your hand (pair, run, triple, fifteen or FINISH)?\"\n",
    "\"Total score = 0 points.\"\n",
    "```"
   ]
  },
  {
   "cell_type": "code",
   "execution_count": null,
   "metadata": {},
   "outputs": [
    {
     "name": "stdout",
     "output_type": "stream",
     "text": [
      "Hand scores\n",
      "-----------------------------------------------\n",
      "pair = 2 | run = 5 | triple = 8 | fifteen = 3 |\n",
      "-----------------------------------------------\n",
      "What is in your hand (pair, run, triple, fifteen or FINISH)?  \n"
     ]
    },
    {
     "name": "stdin",
     "output_type": "stream",
     "text": [
      " FINISH\n"
     ]
    },
    {
     "name": "stdout",
     "output_type": "stream",
     "text": [
      "Total score = 0 points.\n"
     ]
    }
   ],
   "source": [
    "CardGameScoring.main(null);"
   ]
  },
  {
   "cell_type": "markdown",
   "metadata": {},
   "source": [
    "### Test Plan: Test 2\n",
    "\n",
    "If the following input is given by the user when asked in turn:\n",
    "```\n",
    "15\n",
    "FINISH\n",
    "...\n",
    "```\n",
    "The program should output exactly (not including the input):\n",
    "```java\n",
    "\"Hand scores\"\n",
    "\"-----------------------------------------------\"\n",
    "\"pair = 2 | run = 5 | triple = 8 | fifteen = 3 |\"\n",
    "\"-----------------------------------------------\"\n",
    "\"What is in your hand (pair, run, triple, fifteen or FINISH)?\"\n",
    "\"That is an invalid option. Try again.\"\n",
    "\"What is in your hand (pair, run, triple, fifteen or FINISH)?\"\n",
    "\"Total score = 0 points.\"\n",
    "```"
   ]
  },
  {
   "cell_type": "code",
   "execution_count": null,
   "metadata": {},
   "outputs": [
    {
     "name": "stdout",
     "output_type": "stream",
     "text": [
      "Hand scores\n",
      "-----------------------------------------------\n",
      "pair = 2 | run = 5 | triple = 8 | fifteen = 3 |\n",
      "-----------------------------------------------\n",
      "What is in your hand (pair, run, triple, fifteen or FINISH)?  \n"
     ]
    },
    {
     "name": "stdin",
     "output_type": "stream",
     "text": [
      " 15\n"
     ]
    },
    {
     "name": "stdout",
     "output_type": "stream",
     "text": [
      "That is an invalid option. Try again.\n",
      "Total score so far =  0 points.\n",
      "What is in your hand (pair, run, triple, fifteen or FINISH)?  \n"
     ]
    },
    {
     "name": "stdin",
     "output_type": "stream",
     "text": [
      " FINISH\n"
     ]
    },
    {
     "name": "stdout",
     "output_type": "stream",
     "text": [
      "Total score = 0 points.\n"
     ]
    }
   ],
   "source": [
    "CardGameScoring.main(null);"
   ]
  },
  {
   "cell_type": "markdown",
   "metadata": {},
   "source": [
    "### Test Plan: Test 3\n",
    "\n",
    "If the following input is given by the user when asked in turn:\n",
    "```\n",
    "triple\n",
    "run\n",
    "out\n",
    "fifteen\n",
    "pair\n",
    "FINISH\n",
    "...\n",
    "```\n",
    "The program should output exactly (not including the input):\n",
    "```java\n",
    "\"Hand scores\"\n",
    "\"-----------------------------------------------\"\n",
    "\"pair = 2 | run = 5 | triple = 8 | fifteen = 3 |\"\n",
    "\"-----------------------------------------------\"\n",
    "\"What is in your hand (pair, run, triple, fifteen or FINISH)?\"\n",
    "\"You have scored 8 points.\"\n",
    "\"Total score so far = 8 points.\"\n",
    "\"What is in your hand (pair, run, triple, fifteen or FINISH)?\"\n",
    "\"You have scored 5 points.\"\n",
    "\"Total score so far = 13 points.\"\n",
    "\"That is an invalid option. Try again.\"\n",
    "\"What is in your hand (pair, run, triple, fifteen or FINISH)?\"\n",
    "\"You have scored 3 points.\"\n",
    "\"Total score so far = 16 points.\"\n",
    "\"What is in your hand (pair, run, triple, fifteen or FINISH)?\"\n",
    "\"You have scored 2 points.\"\n",
    "\"Total score so far = 18 points.\"\n",
    "\"What is in your hand (pair, run, triple, fifteen or FINISH)?\"\n",
    "\"Total score = 18 points.\"\n",
    "```"
   ]
  },
  {
   "cell_type": "code",
   "execution_count": null,
   "metadata": {},
   "outputs": [
    {
     "name": "stdout",
     "output_type": "stream",
     "text": [
      "Hand scores\n",
      "-----------------------------------------------\n",
      "pair = 2 | run = 5 | triple = 8 | fifteen = 3 |\n",
      "-----------------------------------------------\n",
      "What is in your hand (pair, run, triple, fifteen or FINISH)?  \n"
     ]
    },
    {
     "name": "stdin",
     "output_type": "stream",
     "text": [
      " triple\n"
     ]
    },
    {
     "name": "stdout",
     "output_type": "stream",
     "text": [
      "Total score so far =  8 points.\n",
      "What is in your hand (pair, run, triple, fifteen or FINISH)?  \n"
     ]
    },
    {
     "name": "stdin",
     "output_type": "stream",
     "text": [
      " run\n"
     ]
    },
    {
     "name": "stdout",
     "output_type": "stream",
     "text": [
      "Total score so far =  13 points.\n",
      "What is in your hand (pair, run, triple, fifteen or FINISH)?  \n"
     ]
    },
    {
     "name": "stdin",
     "output_type": "stream",
     "text": [
      " out\n"
     ]
    },
    {
     "name": "stdout",
     "output_type": "stream",
     "text": [
      "That is an invalid option. Try again.\n",
      "Total score so far =  13 points.\n",
      "What is in your hand (pair, run, triple, fifteen or FINISH)?  \n"
     ]
    },
    {
     "name": "stdin",
     "output_type": "stream",
     "text": [
      " fifteen\n"
     ]
    },
    {
     "name": "stdout",
     "output_type": "stream",
     "text": [
      "Total score so far =  16 points.\n",
      "What is in your hand (pair, run, triple, fifteen or FINISH)?  \n"
     ]
    },
    {
     "name": "stdin",
     "output_type": "stream",
     "text": [
      " pair\n"
     ]
    },
    {
     "name": "stdout",
     "output_type": "stream",
     "text": [
      "Total score so far =  18 points.\n",
      "What is in your hand (pair, run, triple, fifteen or FINISH)?  \n"
     ]
    },
    {
     "name": "stdin",
     "output_type": "stream",
     "text": [
      " FINISH\n"
     ]
    },
    {
     "name": "stdout",
     "output_type": "stream",
     "text": [
      "Total score = 18 points.\n"
     ]
    }
   ],
   "source": [
    "CardGameScoring.main(null);"
   ]
  },
  {
   "cell_type": "markdown",
   "metadata": {},
   "source": [
    "**END OF LITERATE DOCUMENT**"
   ]
  }
 ],
 "metadata": {
  "kernelspec": {
   "display_name": "Java",
   "language": "java",
   "name": "java"
  },
  "language_info": {
   "codemirror_mode": "java",
   "file_extension": ".jshell",
   "mimetype": "text/x-java-source",
   "name": "Java",
   "pygments_lexer": "java",
   "version": "11.0.8+10-LTS"
  }
 },
 "nbformat": 4,
 "nbformat_minor": 4
}
