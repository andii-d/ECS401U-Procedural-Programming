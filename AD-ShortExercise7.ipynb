{
 "cells": [
  {
   "cell_type": "markdown",
   "metadata": {
    "tags": []
   },
   "source": [
    "# Short Assessed Exercise\n",
    "# Level  7\n",
    "## Andy Dishnica\n",
    "## 250334126\n",
    "## 06/10/25\n",
    "## Version 1"
   ]
  },
  {
   "cell_type": "markdown",
   "metadata": {},
   "source": [
    "## Summary of the Question \n",
    "\n",
    "A new Paralympic cycling relay competition involves competitors of different disability levels making up a team of three. \n",
    "<br>Each cyclists’ disability is rated on a scale of 1-5 and the total points rating for the three cyclists must be no greater than a given number of points. \n",
    "<br>A legal relay team for a 9 point relay may, for example, consist of two D4 cyclists and a D1 cyclist (4+4+1 = 9 and 9 <= 9), or a D5 cyclist, a D2 cyclist and a D1 cyclist (5+2+1 = 8 and 8 <= 9). \n",
    "\n",
    "<br>Write a program that checks the legality of relay teams given the country and the disability rating of the entrant for each relay leg. \n",
    "<br>It should deal with invalid input as in the test plan (eg the total points rating allowed for a team must be greater than or\n",
    "equal to 3 and each cyclist should have a rating input between 1 and 5 inclusive)."
   ]
  },
  {
   "cell_type": "markdown",
   "metadata": {},
   "source": [
    "## Justification that the program passes this level\n",
    "\n",
    ">This is based on tick boxes at start of the question description for this exercise.\n",
    "- I can EXPLAIN HOW MY PROGRAM WORKS\n",
    "- I wrote this program myself\n",
    "- My code uses an abstract data type with record fields ONlY accessed by accessor methods in the proceural programming style, including a create method, defined in the main class (ParalympicCyclingRelay)\n",
    "- My code is literate\n",
    "- My code is decomposed fully into multiple methods including general methods that also have arguments and return values\n",
    "- My code's methods are individually and helpfully commented on their use\n",
    "- My code has good indentation and variable/method naming\n",
    "- My variables have minimal scope and final variables used for literal constants\n",
    "## The literate program development"
   ]
  },
  {
   "cell_type": "markdown",
   "metadata": {},
   "source": [
    "### createTeam\n",
    "\n",
    "#### What it does\n",
    "Creates an instance of a team\n",
    "\n",
    "#### Implementation (how it works)\n",
    "Using the record, it creates an instance of a team by making a new object of it and storing the arguments as attributes of the record"
   ]
  },
  {
   "cell_type": "code",
   "execution_count": 3,
   "metadata": {},
   "outputs": [],
   "source": [
    "public static ParalympicRelayTeam createTeam(String country, int maxPoints) { // Create a new method that accesses the ParalympicRelayTeam method\n",
    "        ParalympicRelayTeam team = new ParalympicRelayTeam(); // Create a new team object of the record\n",
    "        team.countryName = country;\n",
    "        team.maxPointsPerRace = maxPoints;\n",
    "    \n",
    "        for (int i = 0; i < 3; i++) {\n",
    "            team.disabilityRatings[i] = maxPoints; // Placeholder values for the team's disability rating per cyclist\n",
    "        }    \n",
    "        return team; // Return the entire object \n",
    "    }"
   ]
  },
  {
   "cell_type": "markdown",
   "metadata": {},
   "source": [
    "#### Testing"
   ]
  },
  {
   "cell_type": "code",
   "execution_count": 22,
   "metadata": {},
   "outputs": [
    {
     "name": "stdout",
     "output_type": "stream",
     "text": [
      "Albania\n",
      "10\n",
      "[10, 10, 10]\n"
     ]
    }
   ],
   "source": [
    "ParalympicRelayTeam tempTeam = createTeam(\"Albania\", 10);\n",
    "System.out.println(tempTeam.countryName);\n",
    "System.out.println(tempTeam.maxPointsPerRace);\n",
    "System.out.println(Arrays.toString(tempTeam.disabilityRatings));"
   ]
  },
  {
   "cell_type": "markdown",
   "metadata": {},
   "source": [
    "### setTeamRatings\n",
    "\n",
    "#### What it does\n",
    "Sets the rating of the team's cyclists inputted\n",
    "#### Implementation (how it works)\n",
    "Accesses the team record, and the 3 ratings inputted which then assigns each item in the list of cyclists, their respective ratings.\n",
    "Uses decision statements to ensure that invalid ratings are unassigned."
   ]
  },
  {
   "cell_type": "code",
   "execution_count": 16,
   "metadata": {},
   "outputs": [],
   "source": [
    "public static void setTeamRatings(ParalympicRelayTeam team, int rating1, int rating2, int rating3) { // Set the team's ratings via an accessor method\n",
    "        if (rating1 < 1 || rating1 > 5 || rating2 < 1 || rating2 > 5 || rating3 < 1 || rating3 > 5) {\n",
    "        }\n",
    "        else { \n",
    "            team.disabilityRatings[0] = rating1;\n",
    "            team.disabilityRatings[1] = rating2;\n",
    "            team.disabilityRatings[2] = rating3;\n",
    "        }\n",
    "    }"
   ]
  },
  {
   "cell_type": "markdown",
   "metadata": {},
   "source": [
    "#### Testing"
   ]
  },
  {
   "cell_type": "code",
   "execution_count": 23,
   "metadata": {},
   "outputs": [
    {
     "name": "stdout",
     "output_type": "stream",
     "text": [
      "[3, 4, 2]\n"
     ]
    }
   ],
   "source": [
    "setTeamRatings(tempTeam, 3, 4, 2);\n",
    "System.out.println(Arrays.toString(tempTeam.disabilityRatings));"
   ]
  },
  {
   "cell_type": "markdown",
   "metadata": {},
   "source": [
    "### printTeamRatings\n",
    "\n",
    "#### What it does\n",
    "Prints out the final team ratings and its legality\n",
    "#### Implementation (how it works)\n",
    "Accesses the team record and calculates whether it is going to be a legal race depending if the total disability ratings is lower than the maximum number of points the relay race is set to be. Uses a boolean comparison in the **LEGAL_RATING** variable. Returns a formatted string for the details of the relay race including max number of points, country name, the disability ratings of each cyclist and the legality of said max point race."
   ]
  },
  {
   "cell_type": "code",
   "execution_count": 24,
   "metadata": {},
   "outputs": [],
   "source": [
    "public static String printTeamRatings(ParalympicRelayTeam team) { // Final accessor method that just collates the disability ratings and the legality of the team (depending on their max points and ratings)\n",
    "        final int DISABILITY_RATINGS_TOTAL =  team.disabilityRatings[0] +  team.disabilityRatings[1] +  team.disabilityRatings[2];\n",
    "        final boolean LEGAL_RATING = DISABILITY_RATINGS_TOTAL <= team.maxPointsPerRace; // The rating of the race is legal is the total of the disability ratings is less than the max points of the race\n",
    "        \n",
    "        final String IS_LEGAL = LEGAL_RATING ? \"legal\" : \"NOT legal\"; // Ternary operator in order to decide whether the rating for the team inputted is legal\n",
    "        // ? comes after true, : comes after false\n",
    "\n",
    "        return (String.format(\"%s has D%d, D%d and D%d cyclists. That is %s for a %d point race.\", team.countryName, team.disabilityRatings[0], team.disabilityRatings[1], team.disabilityRatings[2], IS_LEGAL, team.maxPointsPerRace));\n",
    "    }"
   ]
  },
  {
   "cell_type": "markdown",
   "metadata": {},
   "source": [
    "#### Testing"
   ]
  },
  {
   "cell_type": "code",
   "execution_count": 25,
   "metadata": {},
   "outputs": [
    {
     "data": {
      "text/plain": [
       "Albania has D3, D4 and D2 cyclists. That is legal for a 10 point race."
      ]
     },
     "execution_count": 25,
     "metadata": {},
     "output_type": "execute_result"
    }
   ],
   "source": [
    "printTeamRatings(tempTeam);"
   ]
  },
  {
   "cell_type": "markdown",
   "metadata": {},
   "source": [
    "## The complete program\n",
    "This version will only compile here. To run it copy it into a file called initials.java on your local computer and compile and run it there."
   ]
  },
  {
   "cell_type": "code",
   "execution_count": 2,
   "metadata": {},
   "outputs": [],
   "source": [
    "/* ***************************************\n",
    "  @author    Andy Dishnica\n",
    "  @SID       250334126\n",
    "  @date      06 October 2025\n",
    "  @version   1\n",
    "\n",
    "    Write a program that checks the\n",
    "    legality of relay teams given the country \n",
    "    and the disability rating of the entrant for each relay leg.\n",
    "   ****************************************/\n",
    "\n",
    "import java.util.*; // Import all packages\n",
    "\n",
    "class ParalympicRelayTeam { // Create a new record for the relay team's attributes, allowing accessor methods to be used\n",
    "    String countryName;\n",
    "    int maxPointsPerRace;\n",
    "    int[] disabilityRatings = new int[3];\n",
    "}\n",
    "\n",
    "public class ParalympicCyclingRelay {\n",
    "    public static void main(String[] args) {\n",
    "        // Implementation for Paralympic cycling relay menu\n",
    "        Scanner scanner = new Scanner(System.in);\n",
    "\n",
    "        System.out.println(\"What is the point limit for the relay? \");\n",
    "        int givenPointLimit = scanner.nextInt(); // Stores the user's input of the next integer\n",
    "        scanner.nextLine(); // Prevents the next input from being a string input and not an integer input by consuming the \\n\n",
    "        while (givenPointLimit < 3) { // Keep re-entering the point limit if it is below 3, otherwise exit the loop\n",
    "            System.out.println(\"That is not a valid input. Enter a value >=3\");\n",
    "            System.out.println(\"What is the point limit for the relay? \");\n",
    "            givenPointLimit = scanner.nextInt(); // Stores the user's input of the next integer\n",
    "            scanner.nextLine(); // Prevents the next input from being a string input and not an integer input by consuming the \\n\n",
    "        }\n",
    "\n",
    "        System.out.println(\"What is the name of the country? \");\n",
    "        String givenCountryName = scanner.nextLine(); // Stores the user's input of the country name \n",
    "        while (!givenCountryName.matches(\"[A-Za-z]+\")){ // Use the regular expresison of any alphabetical character one or more times for the user input of a country\n",
    "            System.out.println(\"That is not a valid input. Enter a name.\");\n",
    "            givenCountryName = scanner.nextLine(); // Stores the user's input of the country name \n",
    "        }\n",
    "\n",
    "        ParalympicRelayTeam team = createTeam(givenCountryName, givenPointLimit);\n",
    "\n",
    "        int[] givenRatings = new int[3]; // Initalise a list of size 3 for the ratings of the 3 players, hence 'given'\n",
    "\n",
    "        for (int i = 0; i < 3; i++) { // Use a for loop to actually set the rating for each cyclist in the team\n",
    "            System.out.println(String.format(\"What is the disability rating of cyclyst %d? D \", i+1)); // Use i+1 because i is intialised at 0\n",
    "            int currRating = scanner.nextInt();\n",
    "\n",
    "            while (currRating < 1 || currRating > 5) { \n",
    "                System.out.println(\"That is not a valid input. Enter a value >=1 & <=5\");\n",
    "                System.out.println(String.format(\"What is the disability rating of cyclyst %d? D \", i+1)); // Use i+1 because i is intialised at 0\n",
    "                currRating = scanner.nextInt();\n",
    "            }\n",
    "            givenRatings[i] = currRating; // Takes the next user input of an integer\n",
    "        }\n",
    "\n",
    "        scanner.close(); // Prevent resource leaks\n",
    "\n",
    "        setTeamRatings(team, givenRatings[0], givenRatings[1], givenRatings[2]); // Sets the team ratings using an accessor method and inserts the user-inputted ratings as arguments\n",
    "\n",
    "        final String finalRating = printTeamRatings(team); // Keep the final rating given in a final string variable so it cannot be modified\n",
    "\n",
    "        System.out.println(finalRating); // Ultimately, print the final rating\n",
    "    }    \n",
    "\n",
    "    public static ParalympicRelayTeam createTeam(String country, int maxPoints) { // Create a new method that accesses the ParalympicRelayTeam method\n",
    "        ParalympicRelayTeam team = new ParalympicRelayTeam(); // Create a new team object of the record\n",
    "        team.countryName = country;\n",
    "        team.maxPointsPerRace = maxPoints;\n",
    "    \n",
    "        for (int i = 0; i < 3; i++) {\n",
    "            team.disabilityRatings[i] = maxPoints; // Placeholder values for the team's disability rating per cyclist\n",
    "        }    \n",
    "        return team; // Return the entire object \n",
    "    }\n",
    "\n",
    "    public static void setTeamRatings(ParalympicRelayTeam team, int rating1, int rating2, int rating3) { // Set the team's ratings via an accessor method\n",
    "        if (rating1 < 1 || rating1 > 5 || rating2 < 1 || rating2 > 5 || rating3 < 1 || rating3 > 5) {\n",
    "        }\n",
    "        else { \n",
    "            team.disabilityRatings[0] = rating1;\n",
    "            team.disabilityRatings[1] = rating2;\n",
    "            team.disabilityRatings[2] = rating3;\n",
    "        }\n",
    "    }\n",
    "\n",
    "    public static String printTeamRatings(ParalympicRelayTeam team) { // Final accessor method that just collates the disability ratings and the legality of the team (depending on their max points and ratings)\n",
    "        final int DISABILITY_RATINGS_TOTAL =  team.disabilityRatings[0] +  team.disabilityRatings[1] +  team.disabilityRatings[2];\n",
    "        final boolean LEGAL_RATING = DISABILITY_RATINGS_TOTAL <= team.maxPointsPerRace; // The rating of the race is legal is the total of the disability ratings is less than the max points of the race\n",
    "        \n",
    "        final String IS_LEGAL = LEGAL_RATING ? \"legal\" : \"NOT legal\"; // Ternary operator in order to decide whether the rating for the team inputted is legal\n",
    "        // ? comes after true, : comes after false\n",
    "\n",
    "        return (String.format(\"%s has D%d, D%d and D%d cyclists. That is %s for a %d point race.\", team.countryName, team.disabilityRatings[0], team.disabilityRatings[1], team.disabilityRatings[2], IS_LEGAL, team.maxPointsPerRace));\n",
    "    }\n",
    "}"
   ]
  },
  {
   "cell_type": "markdown",
   "metadata": {},
   "source": [
    "## Testing the complete program\n",
    "Run the following test calls for each test in the test plan to run the complete program."
   ]
  },
  {
   "cell_type": "markdown",
   "metadata": {},
   "source": [
    "### Test Plan: Test 1\n",
    "\n",
    "If the following input is given by the user when asked in turn:\n",
    "```\n",
    "9\n",
    "Kenya\n",
    "1\n",
    "5\n",
    "4\n",
    "...\n",
    "```\n",
    "The program should output exactly (not including the input):\n",
    "```java\n",
    "\"What is the point limit for the relay?\"\n",
    "\"What is the name of the country?\"\n",
    "\"What is the disability rating of cyclist 1? D\"\n",
    "\"What is the disability rating of cyclist 2? D\"\n",
    "\"What is the disability rating of cyclist 3? D\"\n",
    "\"Kenya has D1, D5 and D4 cyclists. That is NOT legal for a 9 point race.\"\n",
    "\n",
    "```"
   ]
  },
  {
   "cell_type": "code",
   "execution_count": 26,
   "metadata": {},
   "outputs": [
    {
     "name": "stdout",
     "output_type": "stream",
     "text": [
      "What is the point limit for the relay? \n"
     ]
    },
    {
     "name": "stdin",
     "output_type": "stream",
     "text": [
      " 9\n"
     ]
    },
    {
     "name": "stdout",
     "output_type": "stream",
     "text": [
      "What is the name of the country? \n"
     ]
    },
    {
     "name": "stdin",
     "output_type": "stream",
     "text": [
      " Kenya\n"
     ]
    },
    {
     "name": "stdout",
     "output_type": "stream",
     "text": [
      "What is the disability rating of cyclyst 1? D \n"
     ]
    },
    {
     "name": "stdin",
     "output_type": "stream",
     "text": [
      " 1\n"
     ]
    },
    {
     "name": "stdout",
     "output_type": "stream",
     "text": [
      "What is the disability rating of cyclyst 2? D \n"
     ]
    },
    {
     "name": "stdin",
     "output_type": "stream",
     "text": [
      " 5\n"
     ]
    },
    {
     "name": "stdout",
     "output_type": "stream",
     "text": [
      "What is the disability rating of cyclyst 3? D \n"
     ]
    },
    {
     "name": "stdin",
     "output_type": "stream",
     "text": [
      " 4\n"
     ]
    },
    {
     "name": "stdout",
     "output_type": "stream",
     "text": [
      "Kenya has D1, D5 and D4 cyclists. That is NOT legal for a 9 point race.\n"
     ]
    }
   ],
   "source": [
    "ParalympicCyclingRelay.main(null);"
   ]
  },
  {
   "cell_type": "markdown",
   "metadata": {},
   "source": [
    "### Test Plan: Test 2\n",
    "\n",
    "If the following input is given by the user when asked in turn:\n",
    "```\n",
    "9\n",
    "Japan\n",
    "4\n",
    "4\n",
    "1 \n",
    "...\n",
    "```\n",
    "The program should output exactly (not including the input):\n",
    "```java\n",
    "\"What is the point limit for the relay?\"\n",
    "\"What is the name of the country?\"\n",
    "\"What is the disability rating of cyclist 1? D\"\n",
    "\"What is the disability rating of cyclist 2? D\"\n",
    "\"What is the disability rating of cyclist 3? D\"\n",
    "\"Japan has D4, D4 and D1 cyclists. That is legal for a 9 point race.\"\n",
    "```"
   ]
  },
  {
   "cell_type": "code",
   "execution_count": 27,
   "metadata": {},
   "outputs": [
    {
     "name": "stdout",
     "output_type": "stream",
     "text": [
      "What is the point limit for the relay? \n"
     ]
    },
    {
     "name": "stdin",
     "output_type": "stream",
     "text": [
      " 9\n"
     ]
    },
    {
     "name": "stdout",
     "output_type": "stream",
     "text": [
      "What is the name of the country? \n"
     ]
    },
    {
     "name": "stdin",
     "output_type": "stream",
     "text": [
      " Japan\n"
     ]
    },
    {
     "name": "stdout",
     "output_type": "stream",
     "text": [
      "What is the disability rating of cyclyst 1? D \n"
     ]
    },
    {
     "name": "stdin",
     "output_type": "stream",
     "text": [
      " 4\n"
     ]
    },
    {
     "name": "stdout",
     "output_type": "stream",
     "text": [
      "What is the disability rating of cyclyst 2? D \n"
     ]
    },
    {
     "name": "stdin",
     "output_type": "stream",
     "text": [
      " 4\n"
     ]
    },
    {
     "name": "stdout",
     "output_type": "stream",
     "text": [
      "What is the disability rating of cyclyst 3? D \n"
     ]
    },
    {
     "name": "stdin",
     "output_type": "stream",
     "text": [
      " 1\n"
     ]
    },
    {
     "name": "stdout",
     "output_type": "stream",
     "text": [
      "Japan has D4, D4 and D1 cyclists. That is legal for a 9 point race.\n"
     ]
    }
   ],
   "source": [
    "ParalympicCyclingRelay.main(null);"
   ]
  },
  {
   "cell_type": "markdown",
   "metadata": {},
   "source": [
    "### Test Plan: Test 3\n",
    "\n",
    "If the following input is given by the user when asked in turn:\n",
    "```\n",
    "10\n",
    "Peru\n",
    "3\n",
    "3\n",
    "3\n",
    "...\n",
    "```\n",
    "The program should output exactly (not including the input):\n",
    "```java\n",
    "\"What is the point limit for the relay?\"\n",
    "\"What is the name of the country?\"\n",
    "\"What is the disability rating of cyclist 1? D\"\n",
    "\"What is the disability rating of cyclist 2? D\"\n",
    "\"What is the disability rating of cyclist 3? D\"\n",
    "\"Peru has D3, D3 and D3 cyclists. That is legal for a 10 point race.\"\n",
    "```"
   ]
  },
  {
   "cell_type": "code",
   "execution_count": 28,
   "metadata": {},
   "outputs": [
    {
     "name": "stdout",
     "output_type": "stream",
     "text": [
      "What is the point limit for the relay? \n"
     ]
    },
    {
     "name": "stdin",
     "output_type": "stream",
     "text": [
      " 10\n"
     ]
    },
    {
     "name": "stdout",
     "output_type": "stream",
     "text": [
      "What is the name of the country? \n"
     ]
    },
    {
     "name": "stdin",
     "output_type": "stream",
     "text": [
      " Peru\n"
     ]
    },
    {
     "name": "stdout",
     "output_type": "stream",
     "text": [
      "What is the disability rating of cyclyst 1? D \n"
     ]
    },
    {
     "name": "stdin",
     "output_type": "stream",
     "text": [
      " 3\n"
     ]
    },
    {
     "name": "stdout",
     "output_type": "stream",
     "text": [
      "What is the disability rating of cyclyst 2? D \n"
     ]
    },
    {
     "name": "stdin",
     "output_type": "stream",
     "text": [
      " 3\n"
     ]
    },
    {
     "name": "stdout",
     "output_type": "stream",
     "text": [
      "What is the disability rating of cyclyst 3? D \n"
     ]
    },
    {
     "name": "stdin",
     "output_type": "stream",
     "text": [
      " 3\n"
     ]
    },
    {
     "name": "stdout",
     "output_type": "stream",
     "text": [
      "Peru has D3, D3 and D3 cyclists. That is legal for a 10 point race.\n"
     ]
    }
   ],
   "source": [
    "ParalympicCyclingRelay.main(null);"
   ]
  },
  {
   "cell_type": "markdown",
   "metadata": {},
   "source": [
    "### Test Plan: Test 4\n",
    "\n",
    "If the following input is given by the user when asked in turn:\n",
    "```\n",
    "10\n",
    "“”\n",
    "Haiti\n",
    "4\n",
    "3\n",
    "2\n",
    "...\n",
    "```\n",
    "The program should output exactly (not including the input):\n",
    "```java\n",
    "\"What is the point limit for the relay?\"\n",
    "\"What is the name of the country?\"\n",
    "\"That is not a valid input. Enter a name.\"\n",
    "\"What is the name of the country?\"\n",
    "\"What is the disability rating of cyclist 1? D\"\n",
    "\"What is the disability rating of cyclist 2? D\"\n",
    "\"What is the disability rating of cyclist 3? D\"\n",
    "\"Haiti has D4, D3 and D2 cyclists. That is legal for a 10 point race.\"\n",
    "```"
   ]
  },
  {
   "cell_type": "code",
   "execution_count": 29,
   "metadata": {},
   "outputs": [
    {
     "name": "stdout",
     "output_type": "stream",
     "text": [
      "What is the point limit for the relay? \n"
     ]
    },
    {
     "name": "stdin",
     "output_type": "stream",
     "text": [
      " 10\n"
     ]
    },
    {
     "name": "stdout",
     "output_type": "stream",
     "text": [
      "What is the name of the country? \n"
     ]
    },
    {
     "name": "stdin",
     "output_type": "stream",
     "text": [
      " \"\"\n"
     ]
    },
    {
     "name": "stdout",
     "output_type": "stream",
     "text": [
      "That is not a valid input. Enter a name.\n"
     ]
    },
    {
     "name": "stdin",
     "output_type": "stream",
     "text": [
      " Haiti\n"
     ]
    },
    {
     "name": "stdout",
     "output_type": "stream",
     "text": [
      "What is the disability rating of cyclyst 1? D \n"
     ]
    },
    {
     "name": "stdin",
     "output_type": "stream",
     "text": [
      " 4\n"
     ]
    },
    {
     "name": "stdout",
     "output_type": "stream",
     "text": [
      "What is the disability rating of cyclyst 2? D \n"
     ]
    },
    {
     "name": "stdin",
     "output_type": "stream",
     "text": [
      " 3\n"
     ]
    },
    {
     "name": "stdout",
     "output_type": "stream",
     "text": [
      "What is the disability rating of cyclyst 3? D \n"
     ]
    },
    {
     "name": "stdin",
     "output_type": "stream",
     "text": [
      " 2\n"
     ]
    },
    {
     "name": "stdout",
     "output_type": "stream",
     "text": [
      "Haiti has D4, D3 and D2 cyclists. That is legal for a 10 point race.\n"
     ]
    }
   ],
   "source": [
    "ParalympicCyclingRelay.main(null);"
   ]
  },
  {
   "cell_type": "markdown",
   "metadata": {},
   "source": [
    "### Test Plan: Test 5\n",
    "\n",
    "If the following input is given by the user when asked in turn:\n",
    "```\n",
    "2\n",
    "1\n",
    "3\n",
    "Peru\n",
    "3\n",
    "3\n",
    "3\n",
    "...\n",
    "```\n",
    "The program should output exactly (not including the input):\n",
    "```java\n",
    "\"What is the point limit for the relay?\"\n",
    "\"That is not a valid input. Enter a value >=3\"\n",
    "\"What is the point limit for the relay?\"\n",
    "\"That is not a valid input. Enter a value >=3\"\n",
    "\"What is the point limit for the relay?\"\n",
    "\"What is the name of the country?\"\n",
    "\"What is the disability rating of cyclist 1? D\"\n",
    "\"What is the disability rating of cyclist 2? D\"\n",
    "\"What is the disability rating of cyclist 3? D\"\n",
    "\"Peru has D3, D3 and D3 cyclists. That is NOT legal for a 3 point race.\"\n",
    "```"
   ]
  },
  {
   "cell_type": "code",
   "execution_count": 30,
   "metadata": {},
   "outputs": [
    {
     "name": "stdout",
     "output_type": "stream",
     "text": [
      "What is the point limit for the relay? \n"
     ]
    },
    {
     "name": "stdin",
     "output_type": "stream",
     "text": [
      " 2\n"
     ]
    },
    {
     "name": "stdout",
     "output_type": "stream",
     "text": [
      "That is not a valid input. Enter a value >=3\n",
      "What is the point limit for the relay? \n"
     ]
    },
    {
     "name": "stdin",
     "output_type": "stream",
     "text": [
      " 1\n"
     ]
    },
    {
     "name": "stdout",
     "output_type": "stream",
     "text": [
      "That is not a valid input. Enter a value >=3\n",
      "What is the point limit for the relay? \n"
     ]
    },
    {
     "name": "stdin",
     "output_type": "stream",
     "text": [
      " 3\n"
     ]
    },
    {
     "name": "stdout",
     "output_type": "stream",
     "text": [
      "What is the name of the country? \n"
     ]
    },
    {
     "name": "stdin",
     "output_type": "stream",
     "text": [
      " Peru\n"
     ]
    },
    {
     "name": "stdout",
     "output_type": "stream",
     "text": [
      "What is the disability rating of cyclyst 1? D \n"
     ]
    },
    {
     "name": "stdin",
     "output_type": "stream",
     "text": [
      " 3\n"
     ]
    },
    {
     "name": "stdout",
     "output_type": "stream",
     "text": [
      "What is the disability rating of cyclyst 2? D \n"
     ]
    },
    {
     "name": "stdin",
     "output_type": "stream",
     "text": [
      " 3\n"
     ]
    },
    {
     "name": "stdout",
     "output_type": "stream",
     "text": [
      "What is the disability rating of cyclyst 3? D \n"
     ]
    },
    {
     "name": "stdin",
     "output_type": "stream",
     "text": [
      " 3\n"
     ]
    },
    {
     "name": "stdout",
     "output_type": "stream",
     "text": [
      "Peru has D3, D3 and D3 cyclists. That is NOT legal for a 3 point race.\n"
     ]
    }
   ],
   "source": [
    "ParalympicCyclingRelay.main(null);"
   ]
  },
  {
   "cell_type": "markdown",
   "metadata": {},
   "source": [
    "### Test Plan: Test 6\n",
    "\n",
    "If the following input is given by the user when asked in turn:\n",
    "```\n",
    "10\n",
    "Peru\n",
    "3\n",
    "3\n",
    "0\n",
    "6\n",
    "3\n",
    "...\n",
    "```\n",
    "The program should output exactly (not including the input):\n",
    "```java\n",
    "\"What is the point limit for the relay?\"\n",
    "\"What is the name of the country?\"\n",
    "\"What is the disability rating of cyclist 1? D\"\n",
    "\"What is the disability rating of cyclist 2? D\"\n",
    "\"What is the disability rating of cyclist 3? D\"\n",
    "\"That is not a valid input. Enter a value >=1 & <=5\"\n",
    "\"What is the disability rating of cyclist 3? D\"\n",
    "\"That is not a valid input. Enter a value >=1 & <=5\"\n",
    "\"What is the disability rating of cyclist 3? D\"\n",
    "\"Peru has D3, D3 and D3 cyclists. That is legal for a 10 point race.\"\n",
    "```"
   ]
  },
  {
   "cell_type": "code",
   "execution_count": 31,
   "metadata": {},
   "outputs": [
    {
     "name": "stdout",
     "output_type": "stream",
     "text": [
      "What is the point limit for the relay? \n"
     ]
    },
    {
     "name": "stdin",
     "output_type": "stream",
     "text": [
      " 10\n"
     ]
    },
    {
     "name": "stdout",
     "output_type": "stream",
     "text": [
      "What is the name of the country? \n"
     ]
    },
    {
     "name": "stdin",
     "output_type": "stream",
     "text": [
      " Peru\n"
     ]
    },
    {
     "name": "stdout",
     "output_type": "stream",
     "text": [
      "What is the disability rating of cyclyst 1? D \n"
     ]
    },
    {
     "name": "stdin",
     "output_type": "stream",
     "text": [
      " 3\n"
     ]
    },
    {
     "name": "stdout",
     "output_type": "stream",
     "text": [
      "What is the disability rating of cyclyst 2? D \n"
     ]
    },
    {
     "name": "stdin",
     "output_type": "stream",
     "text": [
      " 3\n"
     ]
    },
    {
     "name": "stdout",
     "output_type": "stream",
     "text": [
      "What is the disability rating of cyclyst 3? D \n"
     ]
    },
    {
     "name": "stdin",
     "output_type": "stream",
     "text": [
      " 0\n"
     ]
    },
    {
     "name": "stdout",
     "output_type": "stream",
     "text": [
      "That is not a valid input. Enter a value >=1 & <=5\n",
      "What is the disability rating of cyclyst 3? D \n"
     ]
    },
    {
     "name": "stdin",
     "output_type": "stream",
     "text": [
      " 6\n"
     ]
    },
    {
     "name": "stdout",
     "output_type": "stream",
     "text": [
      "That is not a valid input. Enter a value >=1 & <=5\n",
      "What is the disability rating of cyclyst 3? D \n"
     ]
    },
    {
     "name": "stdin",
     "output_type": "stream",
     "text": [
      " 3\n"
     ]
    },
    {
     "name": "stdout",
     "output_type": "stream",
     "text": [
      "Peru has D3, D3 and D3 cyclists. That is legal for a 10 point race.\n"
     ]
    }
   ],
   "source": [
    "ParalympicCyclingRelay.main(null);"
   ]
  },
  {
   "cell_type": "markdown",
   "metadata": {},
   "source": [
    "**END OF LITERATE DOCUMENT**"
   ]
  }
 ],
 "metadata": {
  "kernelspec": {
   "display_name": "Java",
   "language": "java",
   "name": "java"
  },
  "language_info": {
   "codemirror_mode": "java",
   "file_extension": ".jshell",
   "mimetype": "text/x-java-source",
   "name": "Java",
   "pygments_lexer": "java",
   "version": "11.0.8+10-LTS"
  }
 },
 "nbformat": 4,
 "nbformat_minor": 4
}
